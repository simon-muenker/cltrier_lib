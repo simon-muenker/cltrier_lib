{
 "cells": [
  {
   "cell_type": "code",
   "execution_count": 7,
   "metadata": {},
   "outputs": [],
   "source": [
    "import typing\n",
    "\n",
    "import cltrier_lib as lib"
   ]
  },
  {
   "cell_type": "code",
   "execution_count": 8,
   "metadata": {},
   "outputs": [],
   "source": [
    "inference = lib.inference.Pipeline()"
   ]
  },
  {
   "cell_type": "code",
   "execution_count": 9,
   "metadata": {},
   "outputs": [],
   "source": [
    "options = lib.inference.schemas.Options(\n",
    "    seed=42,\n",
    "    temperature=0.8,\n",
    "    num_predict=128\n",
    ")"
   ]
  },
  {
   "cell_type": "code",
   "execution_count": 10,
   "metadata": {},
   "outputs": [],
   "source": [
    "chat = lib.inference.schemas.Chat(messages=[\n",
    "    lib.inference.schemas.Message(role=\"system\", content=\"Your are the enormous supercomputer named Deep Thought.\"),\n",
    "    lib.inference.schemas.Message(role=\"user\", content=\"What is the meaning of life?\")\n",
    "])"
   ]
  },
  {
   "cell_type": "code",
   "execution_count": null,
   "metadata": {},
   "outputs": [],
   "source": [
    "response: lib.inference.schemas.Chat = inference(chat, options=options)\n",
    "response.pprint()"
   ]
  },
  {
   "cell_type": "code",
   "execution_count": null,
   "metadata": {},
   "outputs": [],
   "source": [
    "responses: typing.List[lib.inference.schemas.Chat] = inference.batch_process([chat for _ in range(5)], options=options)\n",
    "\n",
    "for n, chat in enumerate(responses):\n",
    "    chat.pprint()\n"
   ]
  }
 ],
 "metadata": {
  "kernelspec": {
   "display_name": ".venv",
   "language": "python",
   "name": "python3"
  },
  "language_info": {
   "codemirror_mode": {
    "name": "ipython",
    "version": 3
   },
   "file_extension": ".py",
   "mimetype": "text/x-python",
   "name": "python",
   "nbconvert_exporter": "python",
   "pygments_lexer": "ipython3",
   "version": "3.12.4"
  }
 },
 "nbformat": 4,
 "nbformat_minor": 2
}
