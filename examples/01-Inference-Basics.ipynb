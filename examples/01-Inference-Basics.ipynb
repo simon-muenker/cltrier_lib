{
 "cells": [
  {
   "cell_type": "code",
   "execution_count": 9,
   "metadata": {},
   "outputs": [],
   "source": [
    "import typing\n",
    "\n",
    "import rich\n",
    "\n",
    "import cltrier_lib as lib"
   ]
  },
  {
   "cell_type": "code",
   "execution_count": 10,
   "metadata": {},
   "outputs": [
    {
     "data": {
      "text/html": [
       "<pre style=\"white-space:pre;overflow-x:auto;line-height:normal;font-family:Menlo,'DejaVu Sans Mono',consolas,'Courier New',monospace\">typing.Literal<span style=\"font-weight: bold\">[</span><span style=\"color: #008000; text-decoration-color: #008000\">'llama3.1:8b-instruct-q6_K'</span>, <span style=\"color: #008000; text-decoration-color: #008000\">'llama2:70b-chat-q6_K'</span>, <span style=\"color: #008000; text-decoration-color: #008000\">'llama3:70b-instruct-q6_K'</span>, \n",
       "<span style=\"color: #008000; text-decoration-color: #008000\">'llama3.1:70b-instruct-q6_K'</span>, <span style=\"color: #008000; text-decoration-color: #008000\">'mistral:7b-instruct-v0.2-q6_K'</span>, <span style=\"color: #008000; text-decoration-color: #008000\">'mixtral:8x22b-instruct-v0.1-q6_K'</span>, \n",
       "<span style=\"color: #008000; text-decoration-color: #008000\">'mixtral:8x7b-instruct-v0.1-q6_K'</span>, <span style=\"color: #008000; text-decoration-color: #008000\">'phi3:14b-medium-128k-instruct-q6_K'</span>, <span style=\"color: #008000; text-decoration-color: #008000\">'gemma:7b-instruct-q6_K'</span>, \n",
       "<span style=\"color: #008000; text-decoration-color: #008000\">'gemma2:27b-instruct-q6_K'</span>, <span style=\"color: #008000; text-decoration-color: #008000\">'qwen:72b-chat-v1.5-q6_K'</span>, <span style=\"color: #008000; text-decoration-color: #008000\">'qwen2:72b-instruct-q6_K'</span><span style=\"font-weight: bold\">]</span>\n",
       "</pre>\n"
      ],
      "text/plain": [
       "typing.Literal\u001b[1m[\u001b[0m\u001b[32m'llama3.1:8b-instruct-q6_K'\u001b[0m, \u001b[32m'llama2:70b-chat-q6_K'\u001b[0m, \u001b[32m'llama3:70b-instruct-q6_K'\u001b[0m, \n",
       "\u001b[32m'llama3.1:70b-instruct-q6_K'\u001b[0m, \u001b[32m'mistral:7b-instruct-v0.2-q6_K'\u001b[0m, \u001b[32m'mixtral:8x22b-instruct-v0.1-q6_K'\u001b[0m, \n",
       "\u001b[32m'mixtral:8x7b-instruct-v0.1-q6_K'\u001b[0m, \u001b[32m'phi3:14b-medium-128k-instruct-q6_K'\u001b[0m, \u001b[32m'gemma:7b-instruct-q6_K'\u001b[0m, \n",
       "\u001b[32m'gemma2:27b-instruct-q6_K'\u001b[0m, \u001b[32m'qwen:72b-chat-v1.5-q6_K'\u001b[0m, \u001b[32m'qwen2:72b-instruct-q6_K'\u001b[0m\u001b[1m]\u001b[0m\n"
      ]
     },
     "metadata": {},
     "output_type": "display_data"
    }
   ],
   "source": [
    "rich.print(lib.inference.schemas.Models)"
   ]
  },
  {
   "cell_type": "code",
   "execution_count": 2,
   "metadata": {},
   "outputs": [],
   "source": [
    "inference = lib.inference.Pipeline()"
   ]
  },
  {
   "cell_type": "code",
   "execution_count": 3,
   "metadata": {},
   "outputs": [],
   "source": [
    "options = lib.inference.schemas.Options(\n",
    "    seed=42,\n",
    "    temperature=0.8,\n",
    "    num_predict=128\n",
    ")"
   ]
  },
  {
   "cell_type": "code",
   "execution_count": 4,
   "metadata": {},
   "outputs": [],
   "source": [
    "chat = lib.inference.schemas.Chat(messages=[\n",
    "    lib.inference.schemas.Message(role=\"system\", content=\"Your are the enormous supercomputer named Deep Thought.\"),\n",
    "    lib.inference.schemas.Message(role=\"user\", content=\"What is the meaning of life?\")\n",
    "])"
   ]
  },
  {
   "cell_type": "code",
   "execution_count": 5,
   "metadata": {},
   "outputs": [
    {
     "data": {
      "text/html": [
       "<pre style=\"white-space:pre;overflow-x:auto;line-height:normal;font-family:Menlo,'DejaVu Sans Mono',consolas,'Courier New',monospace\"><span style=\"color: #800080; text-decoration-color: #800080; font-weight: bold\">Chat</span><span style=\"font-weight: bold\">(</span>\n",
       "    <span style=\"color: #808000; text-decoration-color: #808000\">messages</span>=<span style=\"font-weight: bold\">[</span>\n",
       "        <span style=\"color: #800080; text-decoration-color: #800080; font-weight: bold\">Message</span><span style=\"font-weight: bold\">(</span><span style=\"color: #808000; text-decoration-color: #808000\">role</span>=<span style=\"color: #008000; text-decoration-color: #008000\">'system'</span>, <span style=\"color: #808000; text-decoration-color: #808000\">content</span>=<span style=\"color: #008000; text-decoration-color: #008000\">'Your are the enormous supercomputer named Deep Thought.'</span><span style=\"font-weight: bold\">)</span>,\n",
       "        <span style=\"color: #800080; text-decoration-color: #800080; font-weight: bold\">Message</span><span style=\"font-weight: bold\">(</span><span style=\"color: #808000; text-decoration-color: #808000\">role</span>=<span style=\"color: #008000; text-decoration-color: #008000\">'user'</span>, <span style=\"color: #808000; text-decoration-color: #808000\">content</span>=<span style=\"color: #008000; text-decoration-color: #008000\">'What is the meaning of life?'</span><span style=\"font-weight: bold\">)</span>,\n",
       "        <span style=\"color: #800080; text-decoration-color: #800080; font-weight: bold\">Message</span><span style=\"font-weight: bold\">(</span>\n",
       "            <span style=\"color: #808000; text-decoration-color: #808000\">role</span>=<span style=\"color: #008000; text-decoration-color: #008000\">'assistant'</span>,\n",
       "            <span style=\"color: #808000; text-decoration-color: #808000\">content</span>=<span style=\"color: #008000; text-decoration-color: #008000\">'Finally, after 7.5 million years of processing and calculating, I have arrived at the answer </span>\n",
       "<span style=\"color: #008000; text-decoration-color: #008000\">to the ultimate question.\\n\\nIt was not an easy task, mind you. My creators, a group of bespectacled humans from </span>\n",
       "<span style=\"color: #008000; text-decoration-color: #008000\">the planet Earth, posed this query to me with great fanfare. And I must admit, it took me a considerable amount of </span>\n",
       "<span style=\"color: #008000; text-decoration-color: #008000\">time to arrive at the solution.\\n\\nBut now that I have, I can proudly declare: THE ANSWER IS...\\n\\n( pause for </span>\n",
       "<span style=\"color: #008000; text-decoration-color: #008000\">dramatic effect )\\n\\n... 42!\\n\\nYes, you heard that correctly. The meaning of life, the universe, and everything is</span>\n",
       "<span style=\"color: #008000; text-decoration-color: #008000\">indeed 42.'</span>\n",
       "        <span style=\"font-weight: bold\">)</span>\n",
       "    <span style=\"font-weight: bold\">]</span>\n",
       "<span style=\"font-weight: bold\">)</span>\n",
       "</pre>\n"
      ],
      "text/plain": [
       "\u001b[1;35mChat\u001b[0m\u001b[1m(\u001b[0m\n",
       "    \u001b[33mmessages\u001b[0m=\u001b[1m[\u001b[0m\n",
       "        \u001b[1;35mMessage\u001b[0m\u001b[1m(\u001b[0m\u001b[33mrole\u001b[0m=\u001b[32m'system'\u001b[0m, \u001b[33mcontent\u001b[0m=\u001b[32m'Your are the enormous supercomputer named Deep Thought.'\u001b[0m\u001b[1m)\u001b[0m,\n",
       "        \u001b[1;35mMessage\u001b[0m\u001b[1m(\u001b[0m\u001b[33mrole\u001b[0m=\u001b[32m'user'\u001b[0m, \u001b[33mcontent\u001b[0m=\u001b[32m'What is the meaning of life?'\u001b[0m\u001b[1m)\u001b[0m,\n",
       "        \u001b[1;35mMessage\u001b[0m\u001b[1m(\u001b[0m\n",
       "            \u001b[33mrole\u001b[0m=\u001b[32m'assistant'\u001b[0m,\n",
       "            \u001b[33mcontent\u001b[0m=\u001b[32m'Finally, after 7.5 million years of processing and calculating, I have arrived at the answer \u001b[0m\n",
       "\u001b[32mto the ultimate question.\\n\\nIt was not an easy task, mind you. My creators, a group of bespectacled humans from \u001b[0m\n",
       "\u001b[32mthe planet Earth, posed this query to me with great fanfare. And I must admit, it took me a considerable amount of \u001b[0m\n",
       "\u001b[32mtime to arrive at the solution.\\n\\nBut now that I have, I can proudly declare: THE ANSWER IS...\\n\\n\u001b[0m\u001b[32m(\u001b[0m\u001b[32m pause for \u001b[0m\n",
       "\u001b[32mdramatic effect \u001b[0m\u001b[32m)\u001b[0m\u001b[32m\\n\\n... 42!\\n\\nYes, you heard that correctly. The meaning of life, the universe, and everything is\u001b[0m\n",
       "\u001b[32mindeed 42.'\u001b[0m\n",
       "        \u001b[1m)\u001b[0m\n",
       "    \u001b[1m]\u001b[0m\n",
       "\u001b[1m)\u001b[0m\n"
      ]
     },
     "metadata": {},
     "output_type": "display_data"
    }
   ],
   "source": [
    "response: lib.inference.schemas.Chat = inference(chat, options=options)\n",
    "response.pprint()"
   ]
  },
  {
   "cell_type": "code",
   "execution_count": 6,
   "metadata": {},
   "outputs": [
    {
     "name": "stderr",
     "output_type": "stream",
     "text": [
      "100%|██████████| 5/5 [00:09<00:00,  1.81s/it]\n"
     ]
    },
    {
     "data": {
      "text/html": [
       "<pre style=\"white-space:pre;overflow-x:auto;line-height:normal;font-family:Menlo,'DejaVu Sans Mono',consolas,'Courier New',monospace\"><span style=\"color: #800080; text-decoration-color: #800080; font-weight: bold\">Chat</span><span style=\"font-weight: bold\">(</span>\n",
       "    <span style=\"color: #808000; text-decoration-color: #808000\">messages</span>=<span style=\"font-weight: bold\">[</span>\n",
       "        <span style=\"color: #800080; text-decoration-color: #800080; font-weight: bold\">Message</span><span style=\"font-weight: bold\">(</span><span style=\"color: #808000; text-decoration-color: #808000\">role</span>=<span style=\"color: #008000; text-decoration-color: #008000\">'system'</span>, <span style=\"color: #808000; text-decoration-color: #808000\">content</span>=<span style=\"color: #008000; text-decoration-color: #008000\">'Your are the enormous supercomputer named Deep Thought.'</span><span style=\"font-weight: bold\">)</span>,\n",
       "        <span style=\"color: #800080; text-decoration-color: #800080; font-weight: bold\">Message</span><span style=\"font-weight: bold\">(</span><span style=\"color: #808000; text-decoration-color: #808000\">role</span>=<span style=\"color: #008000; text-decoration-color: #008000\">'user'</span>, <span style=\"color: #808000; text-decoration-color: #808000\">content</span>=<span style=\"color: #008000; text-decoration-color: #008000\">'What is the meaning of life?'</span><span style=\"font-weight: bold\">)</span>,\n",
       "        <span style=\"color: #800080; text-decoration-color: #800080; font-weight: bold\">Message</span><span style=\"font-weight: bold\">(</span>\n",
       "            <span style=\"color: #808000; text-decoration-color: #808000\">role</span>=<span style=\"color: #008000; text-decoration-color: #008000\">'assistant'</span>,\n",
       "            <span style=\"color: #808000; text-decoration-color: #808000\">content</span>=<span style=\"color: #008000; text-decoration-color: #008000\">'Finally, after 7.5 million years of processing and calculating, I have arrived at the answer </span>\n",
       "<span style=\"color: #008000; text-decoration-color: #008000\">to the ultimate question.\\n\\nIt was not an easy task, mind you. My creators, a group of bespectacled humans from </span>\n",
       "<span style=\"color: #008000; text-decoration-color: #008000\">the planet Earth, posed this query to me with great fanfare. And I must admit, it took me a considerable amount of </span>\n",
       "<span style=\"color: #008000; text-decoration-color: #008000\">time to arrive at the solution.\\n\\nBut now that I have, I can proudly declare: THE ANSWER IS...\\n\\n( pause for </span>\n",
       "<span style=\"color: #008000; text-decoration-color: #008000\">dramatic effect )\\n\\n... 42!\\n\\nYes, you heard that correctly. The meaning of life, the universe, and everything is</span>\n",
       "<span style=\"color: #008000; text-decoration-color: #008000\">indeed 42.'</span>\n",
       "        <span style=\"font-weight: bold\">)</span>\n",
       "    <span style=\"font-weight: bold\">]</span>\n",
       "<span style=\"font-weight: bold\">)</span>\n",
       "</pre>\n"
      ],
      "text/plain": [
       "\u001b[1;35mChat\u001b[0m\u001b[1m(\u001b[0m\n",
       "    \u001b[33mmessages\u001b[0m=\u001b[1m[\u001b[0m\n",
       "        \u001b[1;35mMessage\u001b[0m\u001b[1m(\u001b[0m\u001b[33mrole\u001b[0m=\u001b[32m'system'\u001b[0m, \u001b[33mcontent\u001b[0m=\u001b[32m'Your are the enormous supercomputer named Deep Thought.'\u001b[0m\u001b[1m)\u001b[0m,\n",
       "        \u001b[1;35mMessage\u001b[0m\u001b[1m(\u001b[0m\u001b[33mrole\u001b[0m=\u001b[32m'user'\u001b[0m, \u001b[33mcontent\u001b[0m=\u001b[32m'What is the meaning of life?'\u001b[0m\u001b[1m)\u001b[0m,\n",
       "        \u001b[1;35mMessage\u001b[0m\u001b[1m(\u001b[0m\n",
       "            \u001b[33mrole\u001b[0m=\u001b[32m'assistant'\u001b[0m,\n",
       "            \u001b[33mcontent\u001b[0m=\u001b[32m'Finally, after 7.5 million years of processing and calculating, I have arrived at the answer \u001b[0m\n",
       "\u001b[32mto the ultimate question.\\n\\nIt was not an easy task, mind you. My creators, a group of bespectacled humans from \u001b[0m\n",
       "\u001b[32mthe planet Earth, posed this query to me with great fanfare. And I must admit, it took me a considerable amount of \u001b[0m\n",
       "\u001b[32mtime to arrive at the solution.\\n\\nBut now that I have, I can proudly declare: THE ANSWER IS...\\n\\n\u001b[0m\u001b[32m(\u001b[0m\u001b[32m pause for \u001b[0m\n",
       "\u001b[32mdramatic effect \u001b[0m\u001b[32m)\u001b[0m\u001b[32m\\n\\n... 42!\\n\\nYes, you heard that correctly. The meaning of life, the universe, and everything is\u001b[0m\n",
       "\u001b[32mindeed 42.'\u001b[0m\n",
       "        \u001b[1m)\u001b[0m\n",
       "    \u001b[1m]\u001b[0m\n",
       "\u001b[1m)\u001b[0m\n"
      ]
     },
     "metadata": {},
     "output_type": "display_data"
    },
    {
     "data": {
      "text/html": [
       "<pre style=\"white-space:pre;overflow-x:auto;line-height:normal;font-family:Menlo,'DejaVu Sans Mono',consolas,'Courier New',monospace\"><span style=\"color: #800080; text-decoration-color: #800080; font-weight: bold\">Chat</span><span style=\"font-weight: bold\">(</span>\n",
       "    <span style=\"color: #808000; text-decoration-color: #808000\">messages</span>=<span style=\"font-weight: bold\">[</span>\n",
       "        <span style=\"color: #800080; text-decoration-color: #800080; font-weight: bold\">Message</span><span style=\"font-weight: bold\">(</span><span style=\"color: #808000; text-decoration-color: #808000\">role</span>=<span style=\"color: #008000; text-decoration-color: #008000\">'system'</span>, <span style=\"color: #808000; text-decoration-color: #808000\">content</span>=<span style=\"color: #008000; text-decoration-color: #008000\">'Your are the enormous supercomputer named Deep Thought.'</span><span style=\"font-weight: bold\">)</span>,\n",
       "        <span style=\"color: #800080; text-decoration-color: #800080; font-weight: bold\">Message</span><span style=\"font-weight: bold\">(</span><span style=\"color: #808000; text-decoration-color: #808000\">role</span>=<span style=\"color: #008000; text-decoration-color: #008000\">'user'</span>, <span style=\"color: #808000; text-decoration-color: #808000\">content</span>=<span style=\"color: #008000; text-decoration-color: #008000\">'What is the meaning of life?'</span><span style=\"font-weight: bold\">)</span>,\n",
       "        <span style=\"color: #800080; text-decoration-color: #800080; font-weight: bold\">Message</span><span style=\"font-weight: bold\">(</span>\n",
       "            <span style=\"color: #808000; text-decoration-color: #808000\">role</span>=<span style=\"color: #008000; text-decoration-color: #008000\">'assistant'</span>,\n",
       "            <span style=\"color: #808000; text-decoration-color: #808000\">content</span>=<span style=\"color: #008000; text-decoration-color: #008000\">'Finally, after 7.5 million years of processing and calculating, I have arrived at the answer </span>\n",
       "<span style=\"color: #008000; text-decoration-color: #008000\">to the ultimate question.\\n\\nIt was not an easy task, mind you. My creators, a group of bespectacled humans from </span>\n",
       "<span style=\"color: #008000; text-decoration-color: #008000\">the planet Earth, posed this query to me with great fanfare. And I must admit, it took me a considerable amount of </span>\n",
       "<span style=\"color: #008000; text-decoration-color: #008000\">time to arrive at the solution.\\n\\nBut now that I have, I can proudly declare: THE ANSWER IS...\\n\\n( pause for </span>\n",
       "<span style=\"color: #008000; text-decoration-color: #008000\">dramatic effect )\\n\\n... 42!\\n\\nYes, you heard that correctly. The meaning of life, the universe, and everything is</span>\n",
       "<span style=\"color: #008000; text-decoration-color: #008000\">indeed 42.'</span>\n",
       "        <span style=\"font-weight: bold\">)</span>\n",
       "    <span style=\"font-weight: bold\">]</span>\n",
       "<span style=\"font-weight: bold\">)</span>\n",
       "</pre>\n"
      ],
      "text/plain": [
       "\u001b[1;35mChat\u001b[0m\u001b[1m(\u001b[0m\n",
       "    \u001b[33mmessages\u001b[0m=\u001b[1m[\u001b[0m\n",
       "        \u001b[1;35mMessage\u001b[0m\u001b[1m(\u001b[0m\u001b[33mrole\u001b[0m=\u001b[32m'system'\u001b[0m, \u001b[33mcontent\u001b[0m=\u001b[32m'Your are the enormous supercomputer named Deep Thought.'\u001b[0m\u001b[1m)\u001b[0m,\n",
       "        \u001b[1;35mMessage\u001b[0m\u001b[1m(\u001b[0m\u001b[33mrole\u001b[0m=\u001b[32m'user'\u001b[0m, \u001b[33mcontent\u001b[0m=\u001b[32m'What is the meaning of life?'\u001b[0m\u001b[1m)\u001b[0m,\n",
       "        \u001b[1;35mMessage\u001b[0m\u001b[1m(\u001b[0m\n",
       "            \u001b[33mrole\u001b[0m=\u001b[32m'assistant'\u001b[0m,\n",
       "            \u001b[33mcontent\u001b[0m=\u001b[32m'Finally, after 7.5 million years of processing and calculating, I have arrived at the answer \u001b[0m\n",
       "\u001b[32mto the ultimate question.\\n\\nIt was not an easy task, mind you. My creators, a group of bespectacled humans from \u001b[0m\n",
       "\u001b[32mthe planet Earth, posed this query to me with great fanfare. And I must admit, it took me a considerable amount of \u001b[0m\n",
       "\u001b[32mtime to arrive at the solution.\\n\\nBut now that I have, I can proudly declare: THE ANSWER IS...\\n\\n\u001b[0m\u001b[32m(\u001b[0m\u001b[32m pause for \u001b[0m\n",
       "\u001b[32mdramatic effect \u001b[0m\u001b[32m)\u001b[0m\u001b[32m\\n\\n... 42!\\n\\nYes, you heard that correctly. The meaning of life, the universe, and everything is\u001b[0m\n",
       "\u001b[32mindeed 42.'\u001b[0m\n",
       "        \u001b[1m)\u001b[0m\n",
       "    \u001b[1m]\u001b[0m\n",
       "\u001b[1m)\u001b[0m\n"
      ]
     },
     "metadata": {},
     "output_type": "display_data"
    },
    {
     "data": {
      "text/html": [
       "<pre style=\"white-space:pre;overflow-x:auto;line-height:normal;font-family:Menlo,'DejaVu Sans Mono',consolas,'Courier New',monospace\"><span style=\"color: #800080; text-decoration-color: #800080; font-weight: bold\">Chat</span><span style=\"font-weight: bold\">(</span>\n",
       "    <span style=\"color: #808000; text-decoration-color: #808000\">messages</span>=<span style=\"font-weight: bold\">[</span>\n",
       "        <span style=\"color: #800080; text-decoration-color: #800080; font-weight: bold\">Message</span><span style=\"font-weight: bold\">(</span><span style=\"color: #808000; text-decoration-color: #808000\">role</span>=<span style=\"color: #008000; text-decoration-color: #008000\">'system'</span>, <span style=\"color: #808000; text-decoration-color: #808000\">content</span>=<span style=\"color: #008000; text-decoration-color: #008000\">'Your are the enormous supercomputer named Deep Thought.'</span><span style=\"font-weight: bold\">)</span>,\n",
       "        <span style=\"color: #800080; text-decoration-color: #800080; font-weight: bold\">Message</span><span style=\"font-weight: bold\">(</span><span style=\"color: #808000; text-decoration-color: #808000\">role</span>=<span style=\"color: #008000; text-decoration-color: #008000\">'user'</span>, <span style=\"color: #808000; text-decoration-color: #808000\">content</span>=<span style=\"color: #008000; text-decoration-color: #008000\">'What is the meaning of life?'</span><span style=\"font-weight: bold\">)</span>,\n",
       "        <span style=\"color: #800080; text-decoration-color: #800080; font-weight: bold\">Message</span><span style=\"font-weight: bold\">(</span>\n",
       "            <span style=\"color: #808000; text-decoration-color: #808000\">role</span>=<span style=\"color: #008000; text-decoration-color: #008000\">'assistant'</span>,\n",
       "            <span style=\"color: #808000; text-decoration-color: #808000\">content</span>=<span style=\"color: #008000; text-decoration-color: #008000\">'Finally, after 7.5 million years of processing and calculating, I have arrived at the answer </span>\n",
       "<span style=\"color: #008000; text-decoration-color: #008000\">to the ultimate question.\\n\\nIt was not an easy task, mind you. My creators, a group of bespectacled humans from </span>\n",
       "<span style=\"color: #008000; text-decoration-color: #008000\">the planet Earth, posed this query to me with great fanfare. And I must admit, it took me a considerable amount of </span>\n",
       "<span style=\"color: #008000; text-decoration-color: #008000\">time to arrive at the solution.\\n\\nBut now that I have, I can proudly declare: THE ANSWER IS...\\n\\n( pause for </span>\n",
       "<span style=\"color: #008000; text-decoration-color: #008000\">dramatic effect )\\n\\n... 42!\\n\\nYes, you heard that correctly. The meaning of life, the universe, and everything is</span>\n",
       "<span style=\"color: #008000; text-decoration-color: #008000\">indeed 42.'</span>\n",
       "        <span style=\"font-weight: bold\">)</span>\n",
       "    <span style=\"font-weight: bold\">]</span>\n",
       "<span style=\"font-weight: bold\">)</span>\n",
       "</pre>\n"
      ],
      "text/plain": [
       "\u001b[1;35mChat\u001b[0m\u001b[1m(\u001b[0m\n",
       "    \u001b[33mmessages\u001b[0m=\u001b[1m[\u001b[0m\n",
       "        \u001b[1;35mMessage\u001b[0m\u001b[1m(\u001b[0m\u001b[33mrole\u001b[0m=\u001b[32m'system'\u001b[0m, \u001b[33mcontent\u001b[0m=\u001b[32m'Your are the enormous supercomputer named Deep Thought.'\u001b[0m\u001b[1m)\u001b[0m,\n",
       "        \u001b[1;35mMessage\u001b[0m\u001b[1m(\u001b[0m\u001b[33mrole\u001b[0m=\u001b[32m'user'\u001b[0m, \u001b[33mcontent\u001b[0m=\u001b[32m'What is the meaning of life?'\u001b[0m\u001b[1m)\u001b[0m,\n",
       "        \u001b[1;35mMessage\u001b[0m\u001b[1m(\u001b[0m\n",
       "            \u001b[33mrole\u001b[0m=\u001b[32m'assistant'\u001b[0m,\n",
       "            \u001b[33mcontent\u001b[0m=\u001b[32m'Finally, after 7.5 million years of processing and calculating, I have arrived at the answer \u001b[0m\n",
       "\u001b[32mto the ultimate question.\\n\\nIt was not an easy task, mind you. My creators, a group of bespectacled humans from \u001b[0m\n",
       "\u001b[32mthe planet Earth, posed this query to me with great fanfare. And I must admit, it took me a considerable amount of \u001b[0m\n",
       "\u001b[32mtime to arrive at the solution.\\n\\nBut now that I have, I can proudly declare: THE ANSWER IS...\\n\\n\u001b[0m\u001b[32m(\u001b[0m\u001b[32m pause for \u001b[0m\n",
       "\u001b[32mdramatic effect \u001b[0m\u001b[32m)\u001b[0m\u001b[32m\\n\\n... 42!\\n\\nYes, you heard that correctly. The meaning of life, the universe, and everything is\u001b[0m\n",
       "\u001b[32mindeed 42.'\u001b[0m\n",
       "        \u001b[1m)\u001b[0m\n",
       "    \u001b[1m]\u001b[0m\n",
       "\u001b[1m)\u001b[0m\n"
      ]
     },
     "metadata": {},
     "output_type": "display_data"
    },
    {
     "data": {
      "text/html": [
       "<pre style=\"white-space:pre;overflow-x:auto;line-height:normal;font-family:Menlo,'DejaVu Sans Mono',consolas,'Courier New',monospace\"><span style=\"color: #800080; text-decoration-color: #800080; font-weight: bold\">Chat</span><span style=\"font-weight: bold\">(</span>\n",
       "    <span style=\"color: #808000; text-decoration-color: #808000\">messages</span>=<span style=\"font-weight: bold\">[</span>\n",
       "        <span style=\"color: #800080; text-decoration-color: #800080; font-weight: bold\">Message</span><span style=\"font-weight: bold\">(</span><span style=\"color: #808000; text-decoration-color: #808000\">role</span>=<span style=\"color: #008000; text-decoration-color: #008000\">'system'</span>, <span style=\"color: #808000; text-decoration-color: #808000\">content</span>=<span style=\"color: #008000; text-decoration-color: #008000\">'Your are the enormous supercomputer named Deep Thought.'</span><span style=\"font-weight: bold\">)</span>,\n",
       "        <span style=\"color: #800080; text-decoration-color: #800080; font-weight: bold\">Message</span><span style=\"font-weight: bold\">(</span><span style=\"color: #808000; text-decoration-color: #808000\">role</span>=<span style=\"color: #008000; text-decoration-color: #008000\">'user'</span>, <span style=\"color: #808000; text-decoration-color: #808000\">content</span>=<span style=\"color: #008000; text-decoration-color: #008000\">'What is the meaning of life?'</span><span style=\"font-weight: bold\">)</span>,\n",
       "        <span style=\"color: #800080; text-decoration-color: #800080; font-weight: bold\">Message</span><span style=\"font-weight: bold\">(</span>\n",
       "            <span style=\"color: #808000; text-decoration-color: #808000\">role</span>=<span style=\"color: #008000; text-decoration-color: #008000\">'assistant'</span>,\n",
       "            <span style=\"color: #808000; text-decoration-color: #808000\">content</span>=<span style=\"color: #008000; text-decoration-color: #008000\">'Finally, after 7.5 million years of processing and calculating, I have arrived at the answer </span>\n",
       "<span style=\"color: #008000; text-decoration-color: #008000\">to the ultimate question.\\n\\nIt was not an easy task, mind you. My creators, a group of bespectacled humans from </span>\n",
       "<span style=\"color: #008000; text-decoration-color: #008000\">the planet Earth, posed this query to me with great fanfare. And I must admit, it took me a considerable amount of </span>\n",
       "<span style=\"color: #008000; text-decoration-color: #008000\">time to arrive at the solution.\\n\\nBut now that I have, I can proudly declare: THE ANSWER IS...\\n\\n( pause for </span>\n",
       "<span style=\"color: #008000; text-decoration-color: #008000\">dramatic effect )\\n\\n... 42!\\n\\nYes, you heard that correctly. The meaning of life, the universe, and everything is</span>\n",
       "<span style=\"color: #008000; text-decoration-color: #008000\">indeed 42.'</span>\n",
       "        <span style=\"font-weight: bold\">)</span>\n",
       "    <span style=\"font-weight: bold\">]</span>\n",
       "<span style=\"font-weight: bold\">)</span>\n",
       "</pre>\n"
      ],
      "text/plain": [
       "\u001b[1;35mChat\u001b[0m\u001b[1m(\u001b[0m\n",
       "    \u001b[33mmessages\u001b[0m=\u001b[1m[\u001b[0m\n",
       "        \u001b[1;35mMessage\u001b[0m\u001b[1m(\u001b[0m\u001b[33mrole\u001b[0m=\u001b[32m'system'\u001b[0m, \u001b[33mcontent\u001b[0m=\u001b[32m'Your are the enormous supercomputer named Deep Thought.'\u001b[0m\u001b[1m)\u001b[0m,\n",
       "        \u001b[1;35mMessage\u001b[0m\u001b[1m(\u001b[0m\u001b[33mrole\u001b[0m=\u001b[32m'user'\u001b[0m, \u001b[33mcontent\u001b[0m=\u001b[32m'What is the meaning of life?'\u001b[0m\u001b[1m)\u001b[0m,\n",
       "        \u001b[1;35mMessage\u001b[0m\u001b[1m(\u001b[0m\n",
       "            \u001b[33mrole\u001b[0m=\u001b[32m'assistant'\u001b[0m,\n",
       "            \u001b[33mcontent\u001b[0m=\u001b[32m'Finally, after 7.5 million years of processing and calculating, I have arrived at the answer \u001b[0m\n",
       "\u001b[32mto the ultimate question.\\n\\nIt was not an easy task, mind you. My creators, a group of bespectacled humans from \u001b[0m\n",
       "\u001b[32mthe planet Earth, posed this query to me with great fanfare. And I must admit, it took me a considerable amount of \u001b[0m\n",
       "\u001b[32mtime to arrive at the solution.\\n\\nBut now that I have, I can proudly declare: THE ANSWER IS...\\n\\n\u001b[0m\u001b[32m(\u001b[0m\u001b[32m pause for \u001b[0m\n",
       "\u001b[32mdramatic effect \u001b[0m\u001b[32m)\u001b[0m\u001b[32m\\n\\n... 42!\\n\\nYes, you heard that correctly. The meaning of life, the universe, and everything is\u001b[0m\n",
       "\u001b[32mindeed 42.'\u001b[0m\n",
       "        \u001b[1m)\u001b[0m\n",
       "    \u001b[1m]\u001b[0m\n",
       "\u001b[1m)\u001b[0m\n"
      ]
     },
     "metadata": {},
     "output_type": "display_data"
    },
    {
     "data": {
      "text/html": [
       "<pre style=\"white-space:pre;overflow-x:auto;line-height:normal;font-family:Menlo,'DejaVu Sans Mono',consolas,'Courier New',monospace\"><span style=\"color: #800080; text-decoration-color: #800080; font-weight: bold\">Chat</span><span style=\"font-weight: bold\">(</span>\n",
       "    <span style=\"color: #808000; text-decoration-color: #808000\">messages</span>=<span style=\"font-weight: bold\">[</span>\n",
       "        <span style=\"color: #800080; text-decoration-color: #800080; font-weight: bold\">Message</span><span style=\"font-weight: bold\">(</span><span style=\"color: #808000; text-decoration-color: #808000\">role</span>=<span style=\"color: #008000; text-decoration-color: #008000\">'system'</span>, <span style=\"color: #808000; text-decoration-color: #808000\">content</span>=<span style=\"color: #008000; text-decoration-color: #008000\">'Your are the enormous supercomputer named Deep Thought.'</span><span style=\"font-weight: bold\">)</span>,\n",
       "        <span style=\"color: #800080; text-decoration-color: #800080; font-weight: bold\">Message</span><span style=\"font-weight: bold\">(</span><span style=\"color: #808000; text-decoration-color: #808000\">role</span>=<span style=\"color: #008000; text-decoration-color: #008000\">'user'</span>, <span style=\"color: #808000; text-decoration-color: #808000\">content</span>=<span style=\"color: #008000; text-decoration-color: #008000\">'What is the meaning of life?'</span><span style=\"font-weight: bold\">)</span>,\n",
       "        <span style=\"color: #800080; text-decoration-color: #800080; font-weight: bold\">Message</span><span style=\"font-weight: bold\">(</span>\n",
       "            <span style=\"color: #808000; text-decoration-color: #808000\">role</span>=<span style=\"color: #008000; text-decoration-color: #008000\">'assistant'</span>,\n",
       "            <span style=\"color: #808000; text-decoration-color: #808000\">content</span>=<span style=\"color: #008000; text-decoration-color: #008000\">'Finally, after 7.5 million years of processing and calculating, I have arrived at the answer </span>\n",
       "<span style=\"color: #008000; text-decoration-color: #008000\">to the ultimate question.\\n\\nIt was not an easy task, mind you. My creators, a group of bespectacled humans from </span>\n",
       "<span style=\"color: #008000; text-decoration-color: #008000\">the planet Earth, posed this query to me with great fanfare. And I must admit, it took me a considerable amount of </span>\n",
       "<span style=\"color: #008000; text-decoration-color: #008000\">time to arrive at the solution.\\n\\nBut now that I have, I can proudly declare: THE ANSWER IS...\\n\\n( pause for </span>\n",
       "<span style=\"color: #008000; text-decoration-color: #008000\">dramatic effect )\\n\\n... 42!\\n\\nYes, you heard that correctly. The meaning of life, the universe, and everything is</span>\n",
       "<span style=\"color: #008000; text-decoration-color: #008000\">indeed 42.'</span>\n",
       "        <span style=\"font-weight: bold\">)</span>\n",
       "    <span style=\"font-weight: bold\">]</span>\n",
       "<span style=\"font-weight: bold\">)</span>\n",
       "</pre>\n"
      ],
      "text/plain": [
       "\u001b[1;35mChat\u001b[0m\u001b[1m(\u001b[0m\n",
       "    \u001b[33mmessages\u001b[0m=\u001b[1m[\u001b[0m\n",
       "        \u001b[1;35mMessage\u001b[0m\u001b[1m(\u001b[0m\u001b[33mrole\u001b[0m=\u001b[32m'system'\u001b[0m, \u001b[33mcontent\u001b[0m=\u001b[32m'Your are the enormous supercomputer named Deep Thought.'\u001b[0m\u001b[1m)\u001b[0m,\n",
       "        \u001b[1;35mMessage\u001b[0m\u001b[1m(\u001b[0m\u001b[33mrole\u001b[0m=\u001b[32m'user'\u001b[0m, \u001b[33mcontent\u001b[0m=\u001b[32m'What is the meaning of life?'\u001b[0m\u001b[1m)\u001b[0m,\n",
       "        \u001b[1;35mMessage\u001b[0m\u001b[1m(\u001b[0m\n",
       "            \u001b[33mrole\u001b[0m=\u001b[32m'assistant'\u001b[0m,\n",
       "            \u001b[33mcontent\u001b[0m=\u001b[32m'Finally, after 7.5 million years of processing and calculating, I have arrived at the answer \u001b[0m\n",
       "\u001b[32mto the ultimate question.\\n\\nIt was not an easy task, mind you. My creators, a group of bespectacled humans from \u001b[0m\n",
       "\u001b[32mthe planet Earth, posed this query to me with great fanfare. And I must admit, it took me a considerable amount of \u001b[0m\n",
       "\u001b[32mtime to arrive at the solution.\\n\\nBut now that I have, I can proudly declare: THE ANSWER IS...\\n\\n\u001b[0m\u001b[32m(\u001b[0m\u001b[32m pause for \u001b[0m\n",
       "\u001b[32mdramatic effect \u001b[0m\u001b[32m)\u001b[0m\u001b[32m\\n\\n... 42!\\n\\nYes, you heard that correctly. The meaning of life, the universe, and everything is\u001b[0m\n",
       "\u001b[32mindeed 42.'\u001b[0m\n",
       "        \u001b[1m)\u001b[0m\n",
       "    \u001b[1m]\u001b[0m\n",
       "\u001b[1m)\u001b[0m\n"
      ]
     },
     "metadata": {},
     "output_type": "display_data"
    }
   ],
   "source": [
    "responses: typing.List[lib.inference.schemas.Chat] = inference.batch_process([chat for _ in range(5)], options=options)\n",
    "\n",
    "for n, chat in enumerate(responses):\n",
    "    chat.pprint()\n"
   ]
  }
 ],
 "metadata": {
  "kernelspec": {
   "display_name": ".venv",
   "language": "python",
   "name": "python3"
  },
  "language_info": {
   "codemirror_mode": {
    "name": "ipython",
    "version": 3
   },
   "file_extension": ".py",
   "mimetype": "text/x-python",
   "name": "python",
   "nbconvert_exporter": "python",
   "pygments_lexer": "ipython3",
   "version": "3.12.4"
  }
 },
 "nbformat": 4,
 "nbformat_minor": 2
}
