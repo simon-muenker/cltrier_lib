{
 "cells": [
  {
   "cell_type": "code",
   "execution_count": 1,
   "metadata": {},
   "outputs": [],
   "source": [
    "import cltrier_lib as lib"
   ]
  },
  {
   "cell_type": "code",
   "execution_count": 2,
   "metadata": {},
   "outputs": [
    {
     "data": {
      "text/plain": [
       "[{'sample': 'Just tried the new pizza place downtown. The crust was perfect but the sauce was bland. 3/5 stars #foodreview',\n",
       "  'results': {'topics': {'food_&_dining': 0.9267876744270325},\n",
       "   'emotions': {'joy': 0.9283663630485535},\n",
       "   'sentiment': {'positive': 0.8804500699043274},\n",
       "   'irony': {'non_irony': 0.8431624174118042},\n",
       "   'offensive': {'non-offensive': 0.7069150805473328},\n",
       "   'hate': {'NOT-HATE': 0.9641329050064087}}},\n",
       " {'sample': 'Breaking: Major earthquake hits coastal region. Tsunami warnings issued. Residents urged to evacuate immediately. #BreakingNews',\n",
       "  'results': {'topics': {'news_&_social_concern': 0.9811713695526123},\n",
       "   'emotions': {'fear': 0.9458537697792053},\n",
       "   'sentiment': {'negative': 0.7661644816398621, 'neutral': 0.700616180896759},\n",
       "   'irony': {'non_irony': 0.6766775250434875, 'irony': 0.5216075778007507},\n",
       "   'offensive': {'non-offensive': 0.7061151266098022},\n",
       "   'hate': {'NOT-HATE': 0.9522296190261841}}},\n",
       " {'sample': \"I can't believe how rude customer service was at @BigRetailStore today. Never shopping there again! #badservice\",\n",
       "  'results': {'topics': {'diaries_&_daily_life': 0.5937570333480835,\n",
       "    'food_&_dining': 0.6013163924217224},\n",
       "   'emotions': {'anger': 0.9855639934539795, 'disgust': 0.9705624580383301},\n",
       "   'sentiment': {'negative': 0.9277778267860413},\n",
       "   'irony': {'non_irony': 0.719486653804779},\n",
       "   'offensive': {'non-offensive': 0.6345810890197754},\n",
       "   'hate': {'NOT-HATE': 0.9411893486976624}}},\n",
       " {'sample': \"Pro tip: Add a pinch of cinnamon to your coffee grounds before brewing for a subtle flavor boost. You're welcome! #coffeehacks\",\n",
       "  'results': {'topics': {'food_&_dining': 0.9075403809547424},\n",
       "   'emotions': {'joy': 0.9816842675209045, 'optimism': 0.7682462334632874},\n",
       "   'sentiment': {'neutral': 0.6222466826438904,\n",
       "    'positive': 0.9008599519729614},\n",
       "   'irony': {'non_irony': 0.7280060648918152},\n",
       "   'offensive': {'non-offensive': 0.7947314381599426},\n",
       "   'hate': {'NOT-HATE': 0.9641181826591492}}}]"
      ]
     },
     "execution_count": 2,
     "metadata": {},
     "output_type": "execute_result"
    }
   ],
   "source": [
    "lib.classify.Pipeline()([\n",
    "    \"Just tried the new pizza place downtown. The crust was perfect but the sauce was bland. 3/5 stars #foodreview\",\n",
    "    \"Breaking: Major earthquake hits coastal region. Tsunami warnings issued. Residents urged to evacuate immediately. #BreakingNews\",\n",
    "    \"I can't believe how rude customer service was at @BigRetailStore today. Never shopping there again! #badservice\",\n",
    "    \"Pro tip: Add a pinch of cinnamon to your coffee grounds before brewing for a subtle flavor boost. You're welcome! #coffeehacks\"\n",
    "], threshold=0.0)"
   ]
  }
 ],
 "metadata": {
  "kernelspec": {
   "display_name": ".venv",
   "language": "python",
   "name": "python3"
  },
  "language_info": {
   "codemirror_mode": {
    "name": "ipython",
    "version": 3
   },
   "file_extension": ".py",
   "mimetype": "text/x-python",
   "name": "python",
   "nbconvert_exporter": "python",
   "pygments_lexer": "ipython3",
   "version": "3.12.4"
  }
 },
 "nbformat": 4,
 "nbformat_minor": 2
}
