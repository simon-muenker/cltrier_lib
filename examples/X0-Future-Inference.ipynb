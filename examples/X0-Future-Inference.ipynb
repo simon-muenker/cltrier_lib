{
 "cells": [
  {
   "cell_type": "code",
   "execution_count": 53,
   "metadata": {},
   "outputs": [],
   "source": [
    "import typing\n",
    "import datetime\n",
    "import requests\n",
    "\n",
    "import dotenv\n",
    "import pydantic\n",
    "import rich"
   ]
  },
  {
   "cell_type": "code",
   "execution_count": 54,
   "metadata": {},
   "outputs": [],
   "source": [
    "import cltrier_lib as lib"
   ]
  },
  {
   "cell_type": "code",
   "execution_count": 55,
   "metadata": {},
   "outputs": [],
   "source": [
    "ENV = dotenv.dotenv_values()"
   ]
  },
  {
   "cell_type": "code",
   "execution_count": 56,
   "metadata": {},
   "outputs": [],
   "source": [
    "REQUEST_ENDPOINT: str = ENV[\"OLLAMA_ENDPOINT\"]\n",
    "REQUEST_META: typing.Dict = {\n",
    "    \"headers\": {\n",
    "        \"Content-Type\": \"application/json\",\n",
    "        \"Authorization\": f\"Bearer {ENV[\"OLLAMA_BEARER\"]}\"\n",
    "    }\n",
    "}"
   ]
  },
  {
   "cell_type": "code",
   "execution_count": 57,
   "metadata": {},
   "outputs": [],
   "source": [
    "class BaseResponse(pydantic.BaseModel):\n",
    "    model: str\n",
    "\n",
    "    created_at: datetime.datetime\n",
    "    total_duration: datetime.timedelta\n",
    "\n",
    "    prompt_eval_count: int\n",
    "    eval_count: int\n",
    "\n",
    "    @pydantic.field_validator(\"total_duration\", mode=\"before\")\n",
    "    def convert_to_milliseconds(cls, val: int):\n",
    "        return val * 1e-9"
   ]
  },
  {
   "cell_type": "code",
   "execution_count": 58,
   "metadata": {},
   "outputs": [],
   "source": [
    "class GenerateResponse(BaseResponse):\n",
    "    response: str"
   ]
  },
  {
   "cell_type": "code",
   "execution_count": 59,
   "metadata": {},
   "outputs": [],
   "source": [
    "class ChatResponse(BaseResponse):\n",
    "    message: lib.inference.schemas.Message"
   ]
  },
  {
   "cell_type": "code",
   "execution_count": 60,
   "metadata": {},
   "outputs": [
    {
     "data": {
      "text/html": [
       "<pre style=\"white-space:pre;overflow-x:auto;line-height:normal;font-family:Menlo,'DejaVu Sans Mono',consolas,'Courier New',monospace\"><span style=\"color: #800080; text-decoration-color: #800080; font-weight: bold\">GenerateResponse</span><span style=\"font-weight: bold\">(</span>\n",
       "    <span style=\"color: #808000; text-decoration-color: #808000\">model</span>=<span style=\"color: #008000; text-decoration-color: #008000\">'llama3.1:8b-instruct-q6_K'</span>,\n",
       "    <span style=\"color: #808000; text-decoration-color: #808000\">created_at</span>=<span style=\"color: #800080; text-decoration-color: #800080; font-weight: bold\">datetime</span><span style=\"color: #800080; text-decoration-color: #800080; font-weight: bold\">.datetime</span><span style=\"font-weight: bold\">(</span><span style=\"color: #008080; text-decoration-color: #008080; font-weight: bold\">2024</span>, <span style=\"color: #008080; text-decoration-color: #008080; font-weight: bold\">9</span>, <span style=\"color: #008080; text-decoration-color: #008080; font-weight: bold\">10</span>, <span style=\"color: #008080; text-decoration-color: #008080; font-weight: bold\">8</span>, <span style=\"color: #008080; text-decoration-color: #008080; font-weight: bold\">13</span>, <span style=\"color: #008080; text-decoration-color: #008080; font-weight: bold\">56</span>, <span style=\"color: #008080; text-decoration-color: #008080; font-weight: bold\">35771</span>, <span style=\"color: #808000; text-decoration-color: #808000\">tzinfo</span>=<span style=\"color: #800080; text-decoration-color: #800080; font-weight: bold\">TzInfo</span><span style=\"font-weight: bold\">(</span>UTC<span style=\"font-weight: bold\">))</span>,\n",
       "    <span style=\"color: #808000; text-decoration-color: #808000\">total_duration</span>=<span style=\"color: #800080; text-decoration-color: #800080; font-weight: bold\">datetime</span><span style=\"color: #800080; text-decoration-color: #800080; font-weight: bold\">.timedelta</span><span style=\"font-weight: bold\">(</span><span style=\"color: #808000; text-decoration-color: #808000\">seconds</span>=<span style=\"color: #008080; text-decoration-color: #008080; font-weight: bold\">10</span>, <span style=\"color: #808000; text-decoration-color: #808000\">microseconds</span>=<span style=\"color: #008080; text-decoration-color: #008080; font-weight: bold\">133458</span><span style=\"font-weight: bold\">)</span>,\n",
       "    <span style=\"color: #808000; text-decoration-color: #808000\">prompt_eval_count</span>=<span style=\"color: #008080; text-decoration-color: #008080; font-weight: bold\">17</span>,\n",
       "    <span style=\"color: #808000; text-decoration-color: #808000\">eval_count</span>=<span style=\"color: #008080; text-decoration-color: #008080; font-weight: bold\">524</span>,\n",
       "    <span style=\"color: #808000; text-decoration-color: #808000\">response</span>=<span style=\"color: #008000; text-decoration-color: #008000\">\"The sky appears blue to us during the day because of a phenomenon called Rayleigh scattering. Here's </span>\n",
       "<span style=\"color: #008000; text-decoration-color: #008000\">what happens:\\n\\n1. **Sunlight**: When sunlight enters Earth's atmosphere, it consists of all the colors of the </span>\n",
       "<span style=\"color: #008000; text-decoration-color: #008000\">visible spectrum (red, orange, yellow, green, blue, indigo, and violet). These colors are like different types of </span>\n",
       "<span style=\"color: #008000; text-decoration-color: #008000\">rays of light.\\n\\n2. **Scattering**: The smaller molecules in the atmosphere scatter these sun rays in all </span>\n",
       "<span style=\"color: #008000; text-decoration-color: #008000\">directions. However, they scatter shorter wavelengths (like blue) more than longer wavelengths (like red), a </span>\n",
       "<span style=\"color: #008000; text-decoration-color: #008000\">phenomenon known as Rayleigh scattering.\\n\\n3. **What we see**: When we look up at the sky during the day, what </span>\n",
       "<span style=\"color: #008000; text-decoration-color: #008000\">we're seeing is not just the direct sunlight from the sun itself but also all the scattered light rays from the </span>\n",
       "<span style=\"color: #008000; text-decoration-color: #008000\">entire hemisphere of the sky above us. Because blue light is scattered more than other colors and because our </span>\n",
       "<span style=\"color: #008000; text-decoration-color: #008000\">atmosphere is much more prevalent in front of us, it reaches our eyes in greater abundance, making the sky appear </span>\n",
       "<span style=\"color: #008000; text-decoration-color: #008000\">blue.\\n\\n4. **Other factors**: However, the color of the sky can change under different conditions:\\n   - </span>\n",
       "<span style=\"color: #008000; text-decoration-color: #008000\">**Sunset**: During sunset, the sun's light has to travel through more of the Earth's atmosphere to reach us. This </span>\n",
       "<span style=\"color: #008000; text-decoration-color: #008000\">means more scattering occurs (especially for shorter wavelengths), and what we see is more red than blue because </span>\n",
       "<span style=\"color: #008000; text-decoration-color: #008000\">less blue reaches our eyes due to the increased scattering.\\n   - **Clouds and Dust**: If there are thick clouds or</span>\n",
       "<span style=\"color: #008000; text-decoration-color: #008000\">dust in the air, they scatter light differently compared to the Earth's atmosphere, which can change the apparent </span>\n",
       "<span style=\"color: #008000; text-decoration-color: #008000\">color of the sky. For example, during a sandstorm, the sky might appear orange or red due to the large amount of </span>\n",
       "<span style=\"color: #008000; text-decoration-color: #008000\">dust particles scattering longer wavelengths.\\n   - **Atmospheric Pollution**: In some cases, pollutants in the air</span>\n",
       "<span style=\"color: #008000; text-decoration-color: #008000\">like particulate matter, gases, and aerosols can scatter light differently as well, potentially altering the </span>\n",
       "<span style=\"color: #008000; text-decoration-color: #008000\">apparent color of the sky.\\n\\n5. **Moonlight Sky**: At night, when it's dark enough for stars to be visible, the </span>\n",
       "<span style=\"color: #008000; text-decoration-color: #008000\">moon itself reflects sunlight back onto our atmosphere (and us), but this is scattered in a way that doesn't show </span>\n",
       "<span style=\"color: #008000; text-decoration-color: #008000\">its original color due to the Earth's atmospheric conditions. This makes the night sky appear black with twinkling </span>\n",
       "<span style=\"color: #008000; text-decoration-color: #008000\">lights of the distant stars and planets.\\n\\nIn summary, the blue color we see during the day is primarily due to </span>\n",
       "<span style=\"color: #008000; text-decoration-color: #008000\">the scattering of sunlight by the small molecules of gases in our atmosphere, which scatters shorter wavelengths </span>\n",
       "<span style=\"color: #008000; text-decoration-color: #008000\">(like blue) more than longer ones (like red), leading to the beautiful blue hue of a clear sky.\"</span>\n",
       "<span style=\"font-weight: bold\">)</span>\n",
       "</pre>\n"
      ],
      "text/plain": [
       "\u001b[1;35mGenerateResponse\u001b[0m\u001b[1m(\u001b[0m\n",
       "    \u001b[33mmodel\u001b[0m=\u001b[32m'llama3.1:8b-instruct-q6_K'\u001b[0m,\n",
       "    \u001b[33mcreated_at\u001b[0m=\u001b[1;35mdatetime\u001b[0m\u001b[1;35m.datetime\u001b[0m\u001b[1m(\u001b[0m\u001b[1;36m2024\u001b[0m, \u001b[1;36m9\u001b[0m, \u001b[1;36m10\u001b[0m, \u001b[1;36m8\u001b[0m, \u001b[1;36m13\u001b[0m, \u001b[1;36m56\u001b[0m, \u001b[1;36m35771\u001b[0m, \u001b[33mtzinfo\u001b[0m=\u001b[1;35mTzInfo\u001b[0m\u001b[1m(\u001b[0mUTC\u001b[1m)\u001b[0m\u001b[1m)\u001b[0m,\n",
       "    \u001b[33mtotal_duration\u001b[0m=\u001b[1;35mdatetime\u001b[0m\u001b[1;35m.timedelta\u001b[0m\u001b[1m(\u001b[0m\u001b[33mseconds\u001b[0m=\u001b[1;36m10\u001b[0m, \u001b[33mmicroseconds\u001b[0m=\u001b[1;36m133458\u001b[0m\u001b[1m)\u001b[0m,\n",
       "    \u001b[33mprompt_eval_count\u001b[0m=\u001b[1;36m17\u001b[0m,\n",
       "    \u001b[33meval_count\u001b[0m=\u001b[1;36m524\u001b[0m,\n",
       "    \u001b[33mresponse\u001b[0m=\u001b[32m\"The\u001b[0m\u001b[32m sky appears blue to us during the day because of a phenomenon called Rayleigh scattering. Here's \u001b[0m\n",
       "\u001b[32mwhat happens:\\n\\n1. **Sunlight**: When sunlight enters Earth's atmosphere, it consists of all the colors of the \u001b[0m\n",
       "\u001b[32mvisible spectrum \u001b[0m\u001b[32m(\u001b[0m\u001b[32mred, orange, yellow, green, blue, indigo, and violet\u001b[0m\u001b[32m)\u001b[0m\u001b[32m. These colors are like different types of \u001b[0m\n",
       "\u001b[32mrays of light.\\n\\n2. **Scattering**: The smaller molecules in the atmosphere scatter these sun rays in all \u001b[0m\n",
       "\u001b[32mdirections. However, they scatter shorter wavelengths \u001b[0m\u001b[32m(\u001b[0m\u001b[32mlike blue\u001b[0m\u001b[32m)\u001b[0m\u001b[32m more than longer wavelengths \u001b[0m\u001b[32m(\u001b[0m\u001b[32mlike red\u001b[0m\u001b[32m)\u001b[0m\u001b[32m, a \u001b[0m\n",
       "\u001b[32mphenomenon known as Rayleigh scattering.\\n\\n3. **What we see**: When we look up at the sky during the day, what \u001b[0m\n",
       "\u001b[32mwe're seeing is not just the direct sunlight from the sun itself but also all the scattered light rays from the \u001b[0m\n",
       "\u001b[32mentire hemisphere of the sky above us. Because blue light is scattered more than other colors and because our \u001b[0m\n",
       "\u001b[32matmosphere is much more prevalent in front of us, it reaches our eyes in greater abundance, making the sky appear \u001b[0m\n",
       "\u001b[32mblue.\\n\\n4. **Other factors**: However, the color of the sky can change under different conditions:\\n   - \u001b[0m\n",
       "\u001b[32m**Sunset**: During sunset, the sun's light has to travel through more of the Earth's atmosphere to reach us. This \u001b[0m\n",
       "\u001b[32mmeans more scattering occurs \u001b[0m\u001b[32m(\u001b[0m\u001b[32mespecially for shorter wavelengths\u001b[0m\u001b[32m)\u001b[0m\u001b[32m, and what we see is more red than blue because \u001b[0m\n",
       "\u001b[32mless blue reaches our eyes due to the increased scattering.\\n   - **Clouds and Dust**: If there are thick clouds or\u001b[0m\n",
       "\u001b[32mdust in the air, they scatter light differently compared to the Earth's atmosphere, which can change the apparent \u001b[0m\n",
       "\u001b[32mcolor of the sky. For example, during a sandstorm, the sky might appear orange or red due to the large amount of \u001b[0m\n",
       "\u001b[32mdust particles scattering longer wavelengths.\\n   - **Atmospheric Pollution**: In some cases, pollutants in the air\u001b[0m\n",
       "\u001b[32mlike particulate matter, gases, and aerosols can scatter light differently as well, potentially altering the \u001b[0m\n",
       "\u001b[32mapparent color of the sky.\\n\\n5. **Moonlight Sky**: At night, when it's dark enough for stars to be visible, the \u001b[0m\n",
       "\u001b[32mmoon itself reflects sunlight back onto our atmosphere \u001b[0m\u001b[32m(\u001b[0m\u001b[32mand us\u001b[0m\u001b[32m)\u001b[0m\u001b[32m, but this is scattered in a way that doesn't show \u001b[0m\n",
       "\u001b[32mits original color due to the Earth's atmospheric conditions. This makes the night sky appear black with twinkling \u001b[0m\n",
       "\u001b[32mlights of the distant stars and planets.\\n\\nIn summary, the blue color we see during the day is primarily due to \u001b[0m\n",
       "\u001b[32mthe scattering of sunlight by the small molecules of gases in our atmosphere, which scatters shorter wavelengths \u001b[0m\n",
       "\u001b[32m(\u001b[0m\u001b[32mlike blue\u001b[0m\u001b[32m)\u001b[0m\u001b[32m more than longer ones \u001b[0m\u001b[32m(\u001b[0m\u001b[32mlike red\u001b[0m\u001b[32m)\u001b[0m\u001b[32m, leading to the beautiful blue hue of a clear sky.\"\u001b[0m\n",
       "\u001b[1m)\u001b[0m\n"
      ]
     },
     "metadata": {},
     "output_type": "display_data"
    }
   ],
   "source": [
    "rich.print(GenerateResponse(**requests.post(\n",
    "    f\"{REQUEST_ENDPOINT}/generate/\",\n",
    "    json={\n",
    "        \"model\": \"llama3.1:8b-instruct-q6_K\",\n",
    "        \"prompt\": \"Why is the sky blue?\",\n",
    "        \"stream\": False\n",
    "    },\n",
    "    **REQUEST_META\n",
    ").json()))"
   ]
  },
  {
   "cell_type": "code",
   "execution_count": 61,
   "metadata": {},
   "outputs": [
    {
     "data": {
      "text/html": [
       "<pre style=\"white-space:pre;overflow-x:auto;line-height:normal;font-family:Menlo,'DejaVu Sans Mono',consolas,'Courier New',monospace\"><span style=\"color: #800080; text-decoration-color: #800080; font-weight: bold\">ChatResponse</span><span style=\"font-weight: bold\">(</span>\n",
       "    <span style=\"color: #808000; text-decoration-color: #808000\">model</span>=<span style=\"color: #008000; text-decoration-color: #008000\">'llama3.1:8b-instruct-q6_K'</span>,\n",
       "    <span style=\"color: #808000; text-decoration-color: #808000\">created_at</span>=<span style=\"color: #800080; text-decoration-color: #800080; font-weight: bold\">datetime</span><span style=\"color: #800080; text-decoration-color: #800080; font-weight: bold\">.datetime</span><span style=\"font-weight: bold\">(</span><span style=\"color: #008080; text-decoration-color: #008080; font-weight: bold\">2024</span>, <span style=\"color: #008080; text-decoration-color: #008080; font-weight: bold\">9</span>, <span style=\"color: #008080; text-decoration-color: #008080; font-weight: bold\">10</span>, <span style=\"color: #008080; text-decoration-color: #008080; font-weight: bold\">8</span>, <span style=\"color: #008080; text-decoration-color: #008080; font-weight: bold\">14</span>, <span style=\"color: #008080; text-decoration-color: #008080; font-weight: bold\">1</span>, <span style=\"color: #008080; text-decoration-color: #008080; font-weight: bold\">123509</span>, <span style=\"color: #808000; text-decoration-color: #808000\">tzinfo</span>=<span style=\"color: #800080; text-decoration-color: #800080; font-weight: bold\">TzInfo</span><span style=\"font-weight: bold\">(</span>UTC<span style=\"font-weight: bold\">))</span>,\n",
       "    <span style=\"color: #808000; text-decoration-color: #808000\">total_duration</span>=<span style=\"color: #800080; text-decoration-color: #800080; font-weight: bold\">datetime</span><span style=\"color: #800080; text-decoration-color: #800080; font-weight: bold\">.timedelta</span><span style=\"font-weight: bold\">(</span><span style=\"color: #808000; text-decoration-color: #808000\">seconds</span>=<span style=\"color: #008080; text-decoration-color: #008080; font-weight: bold\">4</span>, <span style=\"color: #808000; text-decoration-color: #808000\">microseconds</span>=<span style=\"color: #008080; text-decoration-color: #008080; font-weight: bold\">973918</span><span style=\"font-weight: bold\">)</span>,\n",
       "    <span style=\"color: #808000; text-decoration-color: #808000\">prompt_eval_count</span>=<span style=\"color: #008080; text-decoration-color: #008080; font-weight: bold\">17</span>,\n",
       "    <span style=\"color: #808000; text-decoration-color: #808000\">eval_count</span>=<span style=\"color: #008080; text-decoration-color: #008080; font-weight: bold\">392</span>,\n",
       "    <span style=\"color: #808000; text-decoration-color: #808000\">message</span>=<span style=\"color: #800080; text-decoration-color: #800080; font-weight: bold\">Message</span><span style=\"font-weight: bold\">(</span>\n",
       "        <span style=\"color: #808000; text-decoration-color: #808000\">role</span>=<span style=\"color: #008000; text-decoration-color: #008000\">'assistant'</span>,\n",
       "        <span style=\"color: #808000; text-decoration-color: #808000\">content</span>=<span style=\"color: #008000; text-decoration-color: #008000\">\"The sky appears blue to us during the daytime because of a phenomenon called scattering. When </span>\n",
       "<span style=\"color: #008000; text-decoration-color: #008000\">sunlight enters Earth's atmosphere, it encounters tiny molecules of gases such as nitrogen and oxygen. These </span>\n",
       "<span style=\"color: #008000; text-decoration-color: #008000\">molecules scatter the light in all directions, but they scatter shorter (blue) wavelengths more than longer (red) </span>\n",
       "<span style=\"color: #008000; text-decoration-color: #008000\">wavelengths.\\n\\nHere's a step-by-step explanation:\\n\\n1. **Sunlight Enters Atmosphere**: Sunlight contains a wide </span>\n",
       "<span style=\"color: #008000; text-decoration-color: #008000\">range of electromagnetic radiation, including visible light with different wavelengths (colors).\\n\\n2. **Molecules </span>\n",
       "<span style=\"color: #008000; text-decoration-color: #008000\">Scattering Light**: When sunlight encounters the tiny molecules in Earth's atmosphere (mainly nitrogen and oxygen),</span>\n",
       "<span style=\"color: #008000; text-decoration-color: #008000\">it causes the light to scatter in all directions.\\n\\n3. **Scattering Preference for Blue Wavelengths**: The </span>\n",
       "<span style=\"color: #008000; text-decoration-color: #008000\">scattering effect preferentially scatters shorter (blue) wavelengths over longer (red, orange, yellow) wavelengths.</span>\n",
       "<span style=\"color: #008000; text-decoration-color: #008000\">This means that out of all the colors of sunlight, blue is scattered more than any other color.\\n\\n4. **What We See</span>\n",
       "<span style=\"color: #008000; text-decoration-color: #008000\">from Earth's Surface**: As a result of this scattering, our line of sight to the sun during the daytime includes </span>\n",
       "<span style=\"color: #008000; text-decoration-color: #008000\">much more blue light because it has been scattered in all directions by the atmosphere. This is why we see the sky </span>\n",
       "<span style=\"color: #008000; text-decoration-color: #008000\">as blue rather than yellow or white.\\n\\n5. **Intensity and Color Variation with Sun’s Position**: The apparent </span>\n",
       "<span style=\"color: #008000; text-decoration-color: #008000\">color of the sky can also change depending on several factors, such as the time of day, weather conditions (like </span>\n",
       "<span style=\"color: #008000; text-decoration-color: #008000\">pollution or dust particles), and atmospheric phenomena like clouds. For example, during sunrise and sunset, when </span>\n",
       "<span style=\"color: #008000; text-decoration-color: #008000\">light travels longer distances through the atmosphere to reach our eyes, we tend to see more red hues in the sky </span>\n",
       "<span style=\"color: #008000; text-decoration-color: #008000\">due to Rayleigh scattering, which scatters shorter wavelengths more than longer ones.\\n\\nThis phenomenon is known </span>\n",
       "<span style=\"color: #008000; text-decoration-color: #008000\">as Rayleigh scattering, named after the British physicist Lord Rayleigh, who first described it in 1871. It's a </span>\n",
       "<span style=\"color: #008000; text-decoration-color: #008000\">fundamental aspect of how light interacts with matter and why our atmosphere appears blue during the day.\"</span>\n",
       "    <span style=\"font-weight: bold\">)</span>\n",
       "<span style=\"font-weight: bold\">)</span>\n",
       "</pre>\n"
      ],
      "text/plain": [
       "\u001b[1;35mChatResponse\u001b[0m\u001b[1m(\u001b[0m\n",
       "    \u001b[33mmodel\u001b[0m=\u001b[32m'llama3.1:8b-instruct-q6_K'\u001b[0m,\n",
       "    \u001b[33mcreated_at\u001b[0m=\u001b[1;35mdatetime\u001b[0m\u001b[1;35m.datetime\u001b[0m\u001b[1m(\u001b[0m\u001b[1;36m2024\u001b[0m, \u001b[1;36m9\u001b[0m, \u001b[1;36m10\u001b[0m, \u001b[1;36m8\u001b[0m, \u001b[1;36m14\u001b[0m, \u001b[1;36m1\u001b[0m, \u001b[1;36m123509\u001b[0m, \u001b[33mtzinfo\u001b[0m=\u001b[1;35mTzInfo\u001b[0m\u001b[1m(\u001b[0mUTC\u001b[1m)\u001b[0m\u001b[1m)\u001b[0m,\n",
       "    \u001b[33mtotal_duration\u001b[0m=\u001b[1;35mdatetime\u001b[0m\u001b[1;35m.timedelta\u001b[0m\u001b[1m(\u001b[0m\u001b[33mseconds\u001b[0m=\u001b[1;36m4\u001b[0m, \u001b[33mmicroseconds\u001b[0m=\u001b[1;36m973918\u001b[0m\u001b[1m)\u001b[0m,\n",
       "    \u001b[33mprompt_eval_count\u001b[0m=\u001b[1;36m17\u001b[0m,\n",
       "    \u001b[33meval_count\u001b[0m=\u001b[1;36m392\u001b[0m,\n",
       "    \u001b[33mmessage\u001b[0m=\u001b[1;35mMessage\u001b[0m\u001b[1m(\u001b[0m\n",
       "        \u001b[33mrole\u001b[0m=\u001b[32m'assistant'\u001b[0m,\n",
       "        \u001b[33mcontent\u001b[0m=\u001b[32m\"The\u001b[0m\u001b[32m sky appears blue to us during the daytime because of a phenomenon called scattering. When \u001b[0m\n",
       "\u001b[32msunlight enters Earth's atmosphere, it encounters tiny molecules of gases such as nitrogen and oxygen. These \u001b[0m\n",
       "\u001b[32mmolecules scatter the light in all directions, but they scatter shorter \u001b[0m\u001b[32m(\u001b[0m\u001b[32mblue\u001b[0m\u001b[32m)\u001b[0m\u001b[32m wavelengths more than longer \u001b[0m\u001b[32m(\u001b[0m\u001b[32mred\u001b[0m\u001b[32m)\u001b[0m\u001b[32m \u001b[0m\n",
       "\u001b[32mwavelengths.\\n\\nHere's a step-by-step explanation:\\n\\n1. **Sunlight Enters Atmosphere**: Sunlight contains a wide \u001b[0m\n",
       "\u001b[32mrange of electromagnetic radiation, including visible light with different wavelengths \u001b[0m\u001b[32m(\u001b[0m\u001b[32mcolors\u001b[0m\u001b[32m)\u001b[0m\u001b[32m.\\n\\n2. **Molecules \u001b[0m\n",
       "\u001b[32mScattering Light**: When sunlight encounters the tiny molecules in Earth's atmosphere \u001b[0m\u001b[32m(\u001b[0m\u001b[32mmainly nitrogen and oxygen\u001b[0m\u001b[32m)\u001b[0m\u001b[32m,\u001b[0m\n",
       "\u001b[32mit causes the light to scatter in all directions.\\n\\n3. **Scattering Preference for Blue Wavelengths**: The \u001b[0m\n",
       "\u001b[32mscattering effect preferentially scatters shorter \u001b[0m\u001b[32m(\u001b[0m\u001b[32mblue\u001b[0m\u001b[32m)\u001b[0m\u001b[32m wavelengths over longer \u001b[0m\u001b[32m(\u001b[0m\u001b[32mred, orange, yellow\u001b[0m\u001b[32m)\u001b[0m\u001b[32m wavelengths.\u001b[0m\n",
       "\u001b[32mThis means that out of all the colors of sunlight, blue is scattered more than any other color.\\n\\n4. **What We See\u001b[0m\n",
       "\u001b[32mfrom Earth's Surface**: As a result of this scattering, our line of sight to the sun during the daytime includes \u001b[0m\n",
       "\u001b[32mmuch more blue light because it has been scattered in all directions by the atmosphere. This is why we see the sky \u001b[0m\n",
       "\u001b[32mas blue rather than yellow or white.\\n\\n5. **Intensity and Color Variation with Sun’s Position**: The apparent \u001b[0m\n",
       "\u001b[32mcolor of the sky can also change depending on several factors, such as the time of day, weather conditions \u001b[0m\u001b[32m(\u001b[0m\u001b[32mlike \u001b[0m\n",
       "\u001b[32mpollution or dust particles\u001b[0m\u001b[32m)\u001b[0m\u001b[32m, and atmospheric phenomena like clouds. For example, during sunrise and sunset, when \u001b[0m\n",
       "\u001b[32mlight travels longer distances through the atmosphere to reach our eyes, we tend to see more red hues in the sky \u001b[0m\n",
       "\u001b[32mdue to Rayleigh scattering, which scatters shorter wavelengths more than longer ones.\\n\\nThis phenomenon is known \u001b[0m\n",
       "\u001b[32mas Rayleigh scattering, named after the British physicist Lord Rayleigh, who first described it in 1871. It's a \u001b[0m\n",
       "\u001b[32mfundamental aspect of how light interacts with matter and why our atmosphere appears blue during the day.\"\u001b[0m\n",
       "    \u001b[1m)\u001b[0m\n",
       "\u001b[1m)\u001b[0m\n"
      ]
     },
     "metadata": {},
     "output_type": "display_data"
    }
   ],
   "source": [
    "rich.print(ChatResponse(**requests.post(\n",
    "    f\"{REQUEST_ENDPOINT}/chat/\",\n",
    "    json={\n",
    "        \"model\": \"llama3.1:8b-instruct-q6_K\",\n",
    "        **lib.inference.schemas.Chat(messages=[\n",
    "            lib.inference.schemas.Message(\n",
    "                role=\"user\",\n",
    "                content=\"why is the sky blue?\"\n",
    "            )\n",
    "        ]).model_dump(),\n",
    "        \"stream\": False\n",
    "    },\n",
    "    **REQUEST_META\n",
    ").json()))"
   ]
  },
  {
   "cell_type": "code",
   "execution_count": null,
   "metadata": {},
   "outputs": [],
   "source": []
  }
 ],
 "metadata": {
  "kernelspec": {
   "display_name": ".venv",
   "language": "python",
   "name": "python3"
  },
  "language_info": {
   "codemirror_mode": {
    "name": "ipython",
    "version": 3
   },
   "file_extension": ".py",
   "mimetype": "text/x-python",
   "name": "python",
   "nbconvert_exporter": "python",
   "pygments_lexer": "ipython3",
   "version": "3.12.4"
  }
 },
 "nbformat": 4,
 "nbformat_minor": 2
}
