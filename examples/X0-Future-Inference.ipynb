{
 "cells": [
  {
   "cell_type": "code",
   "execution_count": 1,
   "metadata": {},
   "outputs": [],
   "source": [
    "import typing\n",
    "import datetime\n",
    "import requests\n",
    "\n",
    "import dotenv\n",
    "import pydantic\n",
    "import rich"
   ]
  },
  {
   "cell_type": "code",
   "execution_count": 2,
   "metadata": {},
   "outputs": [],
   "source": [
    "import cltrier_lib as lib"
   ]
  },
  {
   "cell_type": "code",
   "execution_count": 3,
   "metadata": {},
   "outputs": [],
   "source": [
    "ENV = dotenv.dotenv_values()"
   ]
  },
  {
   "cell_type": "code",
   "execution_count": 4,
   "metadata": {},
   "outputs": [],
   "source": [
    "REQUEST_ENDPOINT: str = ENV[\"OLLAMA_ENDPOINT\"]\n",
    "REQUEST_META: typing.Dict = {\n",
    "    \"headers\": {\n",
    "        \"Content-Type\": \"application/json\",\n",
    "        \"Authorization\": f\"Bearer {ENV[\"OLLAMA_BEARER\"]}\"\n",
    "    }\n",
    "}"
   ]
  },
  {
   "cell_type": "code",
   "execution_count": 5,
   "metadata": {},
   "outputs": [],
   "source": [
    "class BaseResponse(pydantic.BaseModel):\n",
    "    model: str\n",
    "\n",
    "    created_at: datetime.datetime\n",
    "    total_duration: datetime.timedelta\n",
    "\n",
    "    prompt_eval_count: int\n",
    "    eval_count: int\n",
    "\n",
    "    @pydantic.field_validator(\"total_duration\", mode=\"before\")\n",
    "    def convert_to_milliseconds(cls, val: int):\n",
    "        return val * 1e-9"
   ]
  },
  {
   "cell_type": "code",
   "execution_count": 6,
   "metadata": {},
   "outputs": [],
   "source": [
    "class GenerateResponse(BaseResponse):\n",
    "    response: str"
   ]
  },
  {
   "cell_type": "code",
   "execution_count": 7,
   "metadata": {},
   "outputs": [],
   "source": [
    "class ChatResponse(BaseResponse):\n",
    "    message: lib.inference.schemas.Message"
   ]
  },
  {
   "cell_type": "code",
   "execution_count": 8,
   "metadata": {},
   "outputs": [
    {
     "data": {
      "text/html": [
       "<pre style=\"white-space:pre;overflow-x:auto;line-height:normal;font-family:Menlo,'DejaVu Sans Mono',consolas,'Courier New',monospace\"><span style=\"color: #800080; text-decoration-color: #800080; font-weight: bold\">GenerateResponse</span><span style=\"font-weight: bold\">(</span>\n",
       "    <span style=\"color: #808000; text-decoration-color: #808000\">model</span>=<span style=\"color: #008000; text-decoration-color: #008000\">'llama3.1:8b-instruct-q6_K'</span>,\n",
       "    <span style=\"color: #808000; text-decoration-color: #808000\">created_at</span>=<span style=\"color: #800080; text-decoration-color: #800080; font-weight: bold\">datetime</span><span style=\"color: #800080; text-decoration-color: #800080; font-weight: bold\">.datetime</span><span style=\"font-weight: bold\">(</span><span style=\"color: #008080; text-decoration-color: #008080; font-weight: bold\">2024</span>, <span style=\"color: #008080; text-decoration-color: #008080; font-weight: bold\">9</span>, <span style=\"color: #008080; text-decoration-color: #008080; font-weight: bold\">10</span>, <span style=\"color: #008080; text-decoration-color: #008080; font-weight: bold\">8</span>, <span style=\"color: #008080; text-decoration-color: #008080; font-weight: bold\">14</span>, <span style=\"color: #008080; text-decoration-color: #008080; font-weight: bold\">55</span>, <span style=\"color: #008080; text-decoration-color: #008080; font-weight: bold\">938160</span>, <span style=\"color: #808000; text-decoration-color: #808000\">tzinfo</span>=<span style=\"color: #800080; text-decoration-color: #800080; font-weight: bold\">TzInfo</span><span style=\"font-weight: bold\">(</span>UTC<span style=\"font-weight: bold\">))</span>,\n",
       "    <span style=\"color: #808000; text-decoration-color: #808000\">total_duration</span>=<span style=\"color: #800080; text-decoration-color: #800080; font-weight: bold\">datetime</span><span style=\"color: #800080; text-decoration-color: #800080; font-weight: bold\">.timedelta</span><span style=\"font-weight: bold\">(</span><span style=\"color: #808000; text-decoration-color: #808000\">seconds</span>=<span style=\"color: #008080; text-decoration-color: #008080; font-weight: bold\">5</span>, <span style=\"color: #808000; text-decoration-color: #808000\">microseconds</span>=<span style=\"color: #008080; text-decoration-color: #008080; font-weight: bold\">60597</span><span style=\"font-weight: bold\">)</span>,\n",
       "    <span style=\"color: #808000; text-decoration-color: #808000\">prompt_eval_count</span>=<span style=\"color: #008080; text-decoration-color: #008080; font-weight: bold\">17</span>,\n",
       "    <span style=\"color: #808000; text-decoration-color: #808000\">eval_count</span>=<span style=\"color: #008080; text-decoration-color: #008080; font-weight: bold\">395</span>,\n",
       "    <span style=\"color: #808000; text-decoration-color: #808000\">response</span>=<span style=\"color: #008000; text-decoration-color: #008000\">\"The sky appears blue to us because of a phenomenon called Rayleigh scattering, named after the </span>\n",
       "<span style=\"color: #008000; text-decoration-color: #008000\">British physicist Lord Rayleigh. Here's what happens:\\n\\n**Short answer:** The shorter (blue) wavelengths are </span>\n",
       "<span style=\"color: #008000; text-decoration-color: #008000\">scattered more than longer (red) wavelengths by the tiny molecules of gases in the Earth's </span>\n",
       "<span style=\"color: #008000; text-decoration-color: #008000\">atmosphere.\\n\\n**Detailed explanation:**\\n\\nWhen sunlight enters our atmosphere, it encounters tiny molecules of </span>\n",
       "<span style=\"color: #008000; text-decoration-color: #008000\">gases such as nitrogen (N2) and oxygen (O2). These molecules are much smaller than the wavelength of light. When </span>\n",
       "<span style=\"color: #008000; text-decoration-color: #008000\">light interacts with these molecules, they scatter the light in all directions.\\n\\nNow, here's the key part: </span>\n",
       "<span style=\"color: #008000; text-decoration-color: #008000\">shorter wavelengths (like blue and violet) are scattered more than longer wavelengths (like red and orange). This </span>\n",
       "<span style=\"color: #008000; text-decoration-color: #008000\">is because the smaller molecules are more effective at scattering the shorter wavelengths. As a result, the blue </span>\n",
       "<span style=\"color: #008000; text-decoration-color: #008000\">light is distributed throughout the atmosphere, giving it a uniform color.\\n\\n**But why not all colors?**\\n\\nThere </span>\n",
       "<span style=\"color: #008000; text-decoration-color: #008000\">are a few reasons why we don't see other colors scattered equally:\\n\\n1. **Wavelength:** The shorter wavelengths </span>\n",
       "<span style=\"color: #008000; text-decoration-color: #008000\">(blue and violet) are more easily scattered than longer wavelengths.\\n2. **Atmospheric gases:** Other molecules in </span>\n",
       "<span style=\"color: #008000; text-decoration-color: #008000\">the atmosphere, like ozone (O3), absorb certain wavelengths of light, making them less visible to us.\\n3. </span>\n",
       "<span style=\"color: #008000; text-decoration-color: #008000\">**Sunlight composition:** Sunlight is composed mostly of blue and yellow light, which are relatively easy to </span>\n",
       "<span style=\"color: #008000; text-decoration-color: #008000\">scatter.\\n\\n**What about at sunrise and sunset?**\\n\\nDuring these times, the sun's rays travel through a thicker </span>\n",
       "<span style=\"color: #008000; text-decoration-color: #008000\">layer of atmosphere before reaching our eyes. This scatters more of the shorter wavelengths (blue and violet), </span>\n",
       "<span style=\"color: #008000; text-decoration-color: #008000\">leaving mainly longer wavelengths (red and orange) to reach us. That's why we often see those beautiful hues during</span>\n",
       "<span style=\"color: #008000; text-decoration-color: #008000\">dawn and dusk!\\n\\nIn summary: the sky appears blue because of Rayleigh scattering, where shorter wavelengths (like </span>\n",
       "<span style=\"color: #008000; text-decoration-color: #008000\">blue) are scattered more than longer wavelengths by tiny atmospheric molecules.\\n\\nHow was that? Did I help you </span>\n",
       "<span style=\"color: #008000; text-decoration-color: #008000\">understand this phenomenon better?\"</span>\n",
       "<span style=\"font-weight: bold\">)</span>\n",
       "</pre>\n"
      ],
      "text/plain": [
       "\u001b[1;35mGenerateResponse\u001b[0m\u001b[1m(\u001b[0m\n",
       "    \u001b[33mmodel\u001b[0m=\u001b[32m'llama3.1:8b-instruct-q6_K'\u001b[0m,\n",
       "    \u001b[33mcreated_at\u001b[0m=\u001b[1;35mdatetime\u001b[0m\u001b[1;35m.datetime\u001b[0m\u001b[1m(\u001b[0m\u001b[1;36m2024\u001b[0m, \u001b[1;36m9\u001b[0m, \u001b[1;36m10\u001b[0m, \u001b[1;36m8\u001b[0m, \u001b[1;36m14\u001b[0m, \u001b[1;36m55\u001b[0m, \u001b[1;36m938160\u001b[0m, \u001b[33mtzinfo\u001b[0m=\u001b[1;35mTzInfo\u001b[0m\u001b[1m(\u001b[0mUTC\u001b[1m)\u001b[0m\u001b[1m)\u001b[0m,\n",
       "    \u001b[33mtotal_duration\u001b[0m=\u001b[1;35mdatetime\u001b[0m\u001b[1;35m.timedelta\u001b[0m\u001b[1m(\u001b[0m\u001b[33mseconds\u001b[0m=\u001b[1;36m5\u001b[0m, \u001b[33mmicroseconds\u001b[0m=\u001b[1;36m60597\u001b[0m\u001b[1m)\u001b[0m,\n",
       "    \u001b[33mprompt_eval_count\u001b[0m=\u001b[1;36m17\u001b[0m,\n",
       "    \u001b[33meval_count\u001b[0m=\u001b[1;36m395\u001b[0m,\n",
       "    \u001b[33mresponse\u001b[0m=\u001b[32m\"The\u001b[0m\u001b[32m sky appears blue to us because of a phenomenon called Rayleigh scattering, named after the \u001b[0m\n",
       "\u001b[32mBritish physicist Lord Rayleigh. Here's what happens:\\n\\n**Short answer:** The shorter \u001b[0m\u001b[32m(\u001b[0m\u001b[32mblue\u001b[0m\u001b[32m)\u001b[0m\u001b[32m wavelengths are \u001b[0m\n",
       "\u001b[32mscattered more than longer \u001b[0m\u001b[32m(\u001b[0m\u001b[32mred\u001b[0m\u001b[32m)\u001b[0m\u001b[32m wavelengths by the tiny molecules of gases in the Earth's \u001b[0m\n",
       "\u001b[32matmosphere.\\n\\n**Detailed explanation:**\\n\\nWhen sunlight enters our atmosphere, it encounters tiny molecules of \u001b[0m\n",
       "\u001b[32mgases such as nitrogen \u001b[0m\u001b[32m(\u001b[0m\u001b[32mN2\u001b[0m\u001b[32m)\u001b[0m\u001b[32m and oxygen \u001b[0m\u001b[32m(\u001b[0m\u001b[32mO2\u001b[0m\u001b[32m)\u001b[0m\u001b[32m. These molecules are much smaller than the wavelength of light. When \u001b[0m\n",
       "\u001b[32mlight interacts with these molecules, they scatter the light in all directions.\\n\\nNow, here's the key part: \u001b[0m\n",
       "\u001b[32mshorter wavelengths \u001b[0m\u001b[32m(\u001b[0m\u001b[32mlike blue and violet\u001b[0m\u001b[32m)\u001b[0m\u001b[32m are scattered more than longer wavelengths \u001b[0m\u001b[32m(\u001b[0m\u001b[32mlike red and orange\u001b[0m\u001b[32m)\u001b[0m\u001b[32m. This \u001b[0m\n",
       "\u001b[32mis because the smaller molecules are more effective at scattering the shorter wavelengths. As a result, the blue \u001b[0m\n",
       "\u001b[32mlight is distributed throughout the atmosphere, giving it a uniform color.\\n\\n**But why not all colors?**\\n\\nThere \u001b[0m\n",
       "\u001b[32mare a few reasons why we don't see other colors scattered equally:\\n\\n1. **Wavelength:** The shorter wavelengths \u001b[0m\n",
       "\u001b[32m(\u001b[0m\u001b[32mblue and violet\u001b[0m\u001b[32m)\u001b[0m\u001b[32m are more easily scattered than longer wavelengths.\\n2. **Atmospheric gases:** Other molecules in \u001b[0m\n",
       "\u001b[32mthe atmosphere, like ozone \u001b[0m\u001b[32m(\u001b[0m\u001b[32mO3\u001b[0m\u001b[32m)\u001b[0m\u001b[32m, absorb certain wavelengths of light, making them less visible to us.\\n3. \u001b[0m\n",
       "\u001b[32m**Sunlight composition:** Sunlight is composed mostly of blue and yellow light, which are relatively easy to \u001b[0m\n",
       "\u001b[32mscatter.\\n\\n**What about at sunrise and sunset?**\\n\\nDuring these times, the sun's rays travel through a thicker \u001b[0m\n",
       "\u001b[32mlayer of atmosphere before reaching our eyes. This scatters more of the shorter wavelengths \u001b[0m\u001b[32m(\u001b[0m\u001b[32mblue and violet\u001b[0m\u001b[32m)\u001b[0m\u001b[32m, \u001b[0m\n",
       "\u001b[32mleaving mainly longer wavelengths \u001b[0m\u001b[32m(\u001b[0m\u001b[32mred and orange\u001b[0m\u001b[32m)\u001b[0m\u001b[32m to reach us. That's why we often see those beautiful hues during\u001b[0m\n",
       "\u001b[32mdawn and dusk!\\n\\nIn summary: the sky appears blue because of Rayleigh scattering, where shorter wavelengths \u001b[0m\u001b[32m(\u001b[0m\u001b[32mlike \u001b[0m\n",
       "\u001b[32mblue\u001b[0m\u001b[32m)\u001b[0m\u001b[32m are scattered more than longer wavelengths by tiny atmospheric molecules.\\n\\nHow was that? Did I help you \u001b[0m\n",
       "\u001b[32munderstand this phenomenon better?\"\u001b[0m\n",
       "\u001b[1m)\u001b[0m\n"
      ]
     },
     "metadata": {},
     "output_type": "display_data"
    }
   ],
   "source": [
    "rich.print(GenerateResponse(**requests.post(\n",
    "    f\"{REQUEST_ENDPOINT}/generate/\",\n",
    "    json={\n",
    "        \"model\": \"llama3.1:8b-instruct-q6_K\",\n",
    "        \"prompt\": \"Why is the sky blue?\",\n",
    "        \"stream\": False\n",
    "    },\n",
    "    **REQUEST_META\n",
    ").json()))"
   ]
  },
  {
   "cell_type": "code",
   "execution_count": 9,
   "metadata": {},
   "outputs": [
    {
     "data": {
      "text/html": [
       "<pre style=\"white-space:pre;overflow-x:auto;line-height:normal;font-family:Menlo,'DejaVu Sans Mono',consolas,'Courier New',monospace\"><span style=\"color: #800080; text-decoration-color: #800080; font-weight: bold\">ChatResponse</span><span style=\"font-weight: bold\">(</span>\n",
       "    <span style=\"color: #808000; text-decoration-color: #808000\">model</span>=<span style=\"color: #008000; text-decoration-color: #008000\">'llama3.1:8b-instruct-q6_K'</span>,\n",
       "    <span style=\"color: #808000; text-decoration-color: #808000\">created_at</span>=<span style=\"color: #800080; text-decoration-color: #800080; font-weight: bold\">datetime</span><span style=\"color: #800080; text-decoration-color: #800080; font-weight: bold\">.datetime</span><span style=\"font-weight: bold\">(</span><span style=\"color: #008080; text-decoration-color: #008080; font-weight: bold\">2024</span>, <span style=\"color: #008080; text-decoration-color: #008080; font-weight: bold\">9</span>, <span style=\"color: #008080; text-decoration-color: #008080; font-weight: bold\">10</span>, <span style=\"color: #008080; text-decoration-color: #008080; font-weight: bold\">8</span>, <span style=\"color: #008080; text-decoration-color: #008080; font-weight: bold\">15</span>, <span style=\"color: #008080; text-decoration-color: #008080; font-weight: bold\">1</span>, <span style=\"color: #008080; text-decoration-color: #008080; font-weight: bold\">556225</span>, <span style=\"color: #808000; text-decoration-color: #808000\">tzinfo</span>=<span style=\"color: #800080; text-decoration-color: #800080; font-weight: bold\">TzInfo</span><span style=\"font-weight: bold\">(</span>UTC<span style=\"font-weight: bold\">))</span>,\n",
       "    <span style=\"color: #808000; text-decoration-color: #808000\">total_duration</span>=<span style=\"color: #800080; text-decoration-color: #800080; font-weight: bold\">datetime</span><span style=\"color: #800080; text-decoration-color: #800080; font-weight: bold\">.timedelta</span><span style=\"font-weight: bold\">(</span><span style=\"color: #808000; text-decoration-color: #808000\">seconds</span>=<span style=\"color: #008080; text-decoration-color: #008080; font-weight: bold\">5</span>, <span style=\"color: #808000; text-decoration-color: #808000\">microseconds</span>=<span style=\"color: #008080; text-decoration-color: #008080; font-weight: bold\">485905</span><span style=\"font-weight: bold\">)</span>,\n",
       "    <span style=\"color: #808000; text-decoration-color: #808000\">prompt_eval_count</span>=<span style=\"color: #008080; text-decoration-color: #008080; font-weight: bold\">17</span>,\n",
       "    <span style=\"color: #808000; text-decoration-color: #808000\">eval_count</span>=<span style=\"color: #008080; text-decoration-color: #008080; font-weight: bold\">434</span>,\n",
       "    <span style=\"color: #808000; text-decoration-color: #808000\">message</span>=<span style=\"color: #800080; text-decoration-color: #800080; font-weight: bold\">Message</span><span style=\"font-weight: bold\">(</span>\n",
       "        <span style=\"color: #808000; text-decoration-color: #808000\">role</span>=<span style=\"color: #008000; text-decoration-color: #008000\">'assistant'</span>,\n",
       "        <span style=\"color: #808000; text-decoration-color: #808000\">content</span>=<span style=\"color: #008000; text-decoration-color: #008000\">\"The sky appears blue to us during the day due to a phenomenon called Rayleigh scattering, named </span>\n",
       "<span style=\"color: #008000; text-decoration-color: #008000\">after the British physicist Lord Rayleigh who first described it in the late 19th century. Here's why:\\n\\n1. </span>\n",
       "<span style=\"color: #008000; text-decoration-color: #008000\">**Sunlight and Its Spectrum**: Sunlight is made up of various wavelengths (colors) of light, which are all mixed </span>\n",
       "<span style=\"color: #008000; text-decoration-color: #008000\">together. These include visible colors such as red, orange, yellow, green, blue, indigo, and violet, plus </span>\n",
       "<span style=\"color: #008000; text-decoration-color: #008000\">ultraviolet (UV) and infrared (IR) rays that we cannot see.\\n\\n2. **Scattering**: When sunlight enters Earth's </span>\n",
       "<span style=\"color: #008000; text-decoration-color: #008000\">atmosphere, it encounters tiny molecules of gases like nitrogen (N2) and oxygen (O2). These molecules scatter the </span>\n",
       "<span style=\"color: #008000; text-decoration-color: #008000\">light in all directions but are much more effective at scattering shorter wavelengths than longer ones.\\n\\n3. </span>\n",
       "<span style=\"color: #008000; text-decoration-color: #008000\">**Rayleigh Scattering Effect**: The key here is that Rayleigh scattering favors shorter wavelengths over longer </span>\n",
       "<span style=\"color: #008000; text-decoration-color: #008000\">wavelengths. Blue light, being on the shorter end of the visible spectrum, is scattered more than red light. This </span>\n",
       "<span style=\"color: #008000; text-decoration-color: #008000\">means that when we look up at the sky, we see primarily blue light, which has been scattered in all directions by </span>\n",
       "<span style=\"color: #008000; text-decoration-color: #008000\">the atmosphere.\\n\\n4. **Why Not All Parts of the Sky Appear Blue**: The color of the sky can vary due to several </span>\n",
       "<span style=\"color: #008000; text-decoration-color: #008000\">factors including:\\n   - **Atmospheric Conditions**: During sunrise and sunset, the shorter wavelengths (like blue)</span>\n",
       "<span style=\"color: #008000; text-decoration-color: #008000\">are scattered away more efficiently by atmospheric particles such as dust, pollen, and water vapor, making the sun </span>\n",
       "<span style=\"color: #008000; text-decoration-color: #008000\">appear red.\\n   - **Clouds and Pollution**: Clouds and air pollution can scatter light in a way that makes the sky </span>\n",
       "<span style=\"color: #008000; text-decoration-color: #008000\">look gray or white. Thick clouds can block sunlight and prevent any color from appearing, leading to a dark blue or</span>\n",
       "<span style=\"color: #008000; text-decoration-color: #008000\">black appearance during nighttime.\\n   - **Atmospheric Attenuation**: The Earth's atmosphere attenuates (weakens) </span>\n",
       "<span style=\"color: #008000; text-decoration-color: #008000\">some wavelengths more than others as they pass through it. This is why distant objects often appear red.\\n\\nIn </span>\n",
       "<span style=\"color: #008000; text-decoration-color: #008000\">summary, the sky appears blue because of the scattering effect caused by shorter wavelengths in sunlight </span>\n",
       "<span style=\"color: #008000; text-decoration-color: #008000\">interacting with the tiny molecules of gases in the atmosphere, a phenomenon known as Rayleigh scattering.\"</span>\n",
       "    <span style=\"font-weight: bold\">)</span>\n",
       "<span style=\"font-weight: bold\">)</span>\n",
       "</pre>\n"
      ],
      "text/plain": [
       "\u001b[1;35mChatResponse\u001b[0m\u001b[1m(\u001b[0m\n",
       "    \u001b[33mmodel\u001b[0m=\u001b[32m'llama3.1:8b-instruct-q6_K'\u001b[0m,\n",
       "    \u001b[33mcreated_at\u001b[0m=\u001b[1;35mdatetime\u001b[0m\u001b[1;35m.datetime\u001b[0m\u001b[1m(\u001b[0m\u001b[1;36m2024\u001b[0m, \u001b[1;36m9\u001b[0m, \u001b[1;36m10\u001b[0m, \u001b[1;36m8\u001b[0m, \u001b[1;36m15\u001b[0m, \u001b[1;36m1\u001b[0m, \u001b[1;36m556225\u001b[0m, \u001b[33mtzinfo\u001b[0m=\u001b[1;35mTzInfo\u001b[0m\u001b[1m(\u001b[0mUTC\u001b[1m)\u001b[0m\u001b[1m)\u001b[0m,\n",
       "    \u001b[33mtotal_duration\u001b[0m=\u001b[1;35mdatetime\u001b[0m\u001b[1;35m.timedelta\u001b[0m\u001b[1m(\u001b[0m\u001b[33mseconds\u001b[0m=\u001b[1;36m5\u001b[0m, \u001b[33mmicroseconds\u001b[0m=\u001b[1;36m485905\u001b[0m\u001b[1m)\u001b[0m,\n",
       "    \u001b[33mprompt_eval_count\u001b[0m=\u001b[1;36m17\u001b[0m,\n",
       "    \u001b[33meval_count\u001b[0m=\u001b[1;36m434\u001b[0m,\n",
       "    \u001b[33mmessage\u001b[0m=\u001b[1;35mMessage\u001b[0m\u001b[1m(\u001b[0m\n",
       "        \u001b[33mrole\u001b[0m=\u001b[32m'assistant'\u001b[0m,\n",
       "        \u001b[33mcontent\u001b[0m=\u001b[32m\"The\u001b[0m\u001b[32m sky appears blue to us during the day due to a phenomenon called Rayleigh scattering, named \u001b[0m\n",
       "\u001b[32mafter the British physicist Lord Rayleigh who first described it in the late 19th century. Here's why:\\n\\n1. \u001b[0m\n",
       "\u001b[32m**Sunlight and Its Spectrum**: Sunlight is made up of various wavelengths \u001b[0m\u001b[32m(\u001b[0m\u001b[32mcolors\u001b[0m\u001b[32m)\u001b[0m\u001b[32m of light, which are all mixed \u001b[0m\n",
       "\u001b[32mtogether. These include visible colors such as red, orange, yellow, green, blue, indigo, and violet, plus \u001b[0m\n",
       "\u001b[32multraviolet \u001b[0m\u001b[32m(\u001b[0m\u001b[32mUV\u001b[0m\u001b[32m)\u001b[0m\u001b[32m and infrared \u001b[0m\u001b[32m(\u001b[0m\u001b[32mIR\u001b[0m\u001b[32m)\u001b[0m\u001b[32m rays that we cannot see.\\n\\n2. **Scattering**: When sunlight enters Earth's \u001b[0m\n",
       "\u001b[32matmosphere, it encounters tiny molecules of gases like nitrogen \u001b[0m\u001b[32m(\u001b[0m\u001b[32mN2\u001b[0m\u001b[32m)\u001b[0m\u001b[32m and oxygen \u001b[0m\u001b[32m(\u001b[0m\u001b[32mO2\u001b[0m\u001b[32m)\u001b[0m\u001b[32m. These molecules scatter the \u001b[0m\n",
       "\u001b[32mlight in all directions but are much more effective at scattering shorter wavelengths than longer ones.\\n\\n3. \u001b[0m\n",
       "\u001b[32m**Rayleigh Scattering Effect**: The key here is that Rayleigh scattering favors shorter wavelengths over longer \u001b[0m\n",
       "\u001b[32mwavelengths. Blue light, being on the shorter end of the visible spectrum, is scattered more than red light. This \u001b[0m\n",
       "\u001b[32mmeans that when we look up at the sky, we see primarily blue light, which has been scattered in all directions by \u001b[0m\n",
       "\u001b[32mthe atmosphere.\\n\\n4. **Why Not All Parts of the Sky Appear Blue**: The color of the sky can vary due to several \u001b[0m\n",
       "\u001b[32mfactors including:\\n   - **Atmospheric Conditions**: During sunrise and sunset, the shorter wavelengths \u001b[0m\u001b[32m(\u001b[0m\u001b[32mlike blue\u001b[0m\u001b[32m)\u001b[0m\n",
       "\u001b[32mare scattered away more efficiently by atmospheric particles such as dust, pollen, and water vapor, making the sun \u001b[0m\n",
       "\u001b[32mappear red.\\n   - **Clouds and Pollution**: Clouds and air pollution can scatter light in a way that makes the sky \u001b[0m\n",
       "\u001b[32mlook gray or white. Thick clouds can block sunlight and prevent any color from appearing, leading to a dark blue or\u001b[0m\n",
       "\u001b[32mblack appearance during nighttime.\\n   - **Atmospheric Attenuation**: The Earth's atmosphere attenuates \u001b[0m\u001b[32m(\u001b[0m\u001b[32mweakens\u001b[0m\u001b[32m)\u001b[0m\u001b[32m \u001b[0m\n",
       "\u001b[32msome wavelengths more than others as they pass through it. This is why distant objects often appear red.\\n\\nIn \u001b[0m\n",
       "\u001b[32msummary, the sky appears blue because of the scattering effect caused by shorter wavelengths in sunlight \u001b[0m\n",
       "\u001b[32minteracting with the tiny molecules of gases in the atmosphere, a phenomenon known as Rayleigh scattering.\"\u001b[0m\n",
       "    \u001b[1m)\u001b[0m\n",
       "\u001b[1m)\u001b[0m\n"
      ]
     },
     "metadata": {},
     "output_type": "display_data"
    }
   ],
   "source": [
    "rich.print(ChatResponse(**requests.post(\n",
    "    f\"{REQUEST_ENDPOINT}/chat/\",\n",
    "    json={\n",
    "        \"model\": \"llama3.1:8b-instruct-q6_K\",\n",
    "        **lib.inference.schemas.Chat(messages=[\n",
    "            lib.inference.schemas.Message(\n",
    "                role=\"user\",\n",
    "                content=\"why is the sky blue?\"\n",
    "            )\n",
    "        ]).model_dump(),\n",
    "        \"stream\": False\n",
    "    },\n",
    "    **REQUEST_META\n",
    ").json()))"
   ]
  },
  {
   "cell_type": "code",
   "execution_count": null,
   "metadata": {},
   "outputs": [],
   "source": []
  }
 ],
 "metadata": {
  "kernelspec": {
   "display_name": ".venv",
   "language": "python",
   "name": "python3"
  },
  "language_info": {
   "codemirror_mode": {
    "name": "ipython",
    "version": 3
   },
   "file_extension": ".py",
   "mimetype": "text/x-python",
   "name": "python",
   "nbconvert_exporter": "python",
   "pygments_lexer": "ipython3",
   "version": "3.12.4"
  }
 },
 "nbformat": 4,
 "nbformat_minor": 2
}
